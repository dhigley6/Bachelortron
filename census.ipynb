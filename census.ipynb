{
 "metadata": {
  "language_info": {
   "codemirror_mode": {
    "name": "ipython",
    "version": 3
   },
   "file_extension": ".py",
   "mimetype": "text/x-python",
   "name": "python",
   "nbconvert_exporter": "python",
   "pygments_lexer": "ipython3",
   "version": "3.6.9-final"
  },
  "orig_nbformat": 2,
  "kernelspec": {
   "name": "python_defaultSpec_1600202795648",
   "display_name": "Python 3.6.9 64-bit ('base': conda)"
  }
 },
 "nbformat": 4,
 "nbformat_minor": 2,
 "cells": [
  {
   "source": [
    "# Pulling hometown demographic data"
   ],
   "cell_type": "markdown",
   "metadata": {}
  },
  {
   "source": [
    "Potentially useful census variables from summary file 1:\n",
    "\n",
    "P013001: median age\n",
    "\n",
    "P017001: average household size\n",
    "\n",
    "P001001: Total population\n",
    "\n",
    "P012010: Total!!Male!!22 to 24 years\n",
    "\n",
    "P012011: Total!!Male!!25 to 29 years\n",
    "\n",
    "P012012: Total!!Male!!30 to 34 years\n",
    "\n",
    "P012034: \tTotal!!Female!!22 to 24 years\n",
    "\n",
    "P012035: Total!!Female!!25 to 29 years\n",
    "\n",
    "P012036: \tTotal!!Female!!30 to 34 years\n",
    "\n",
    "P013002: Median age!!Male\t\n",
    "\n",
    "P013003: Median age!!Female\t\n",
    "\n",
    "P017001: Average household size!!Total\t\n",
    "\n",
    "P037001: Average family size!!Total\t"
   ],
   "cell_type": "markdown",
   "metadata": {}
  },
  {
   "source": [
    "ACS5 Variable Definitions: https://api.census.gov/data/2016/acs/acs5/variables.html\n",
    "\n",
    "Potentially useful census variables from ACS5:\n",
    "\n",
    "B01001: Sex by age\n",
    "\n",
    "B06009: PLACE OF BIRTH BY EDUCATIONAL ATTAINMENT IN THE UNITED STATES\n",
    "\n",
    "B05010: RATIO OF INCOME TO POVERTY LEVEL IN THE PAST 12 MONTHS BY NATIVITY OF CHILDREN UNDER 18 YEARS IN FAMILIES AND SUBFAMILIES BY LIVING ARRANGEMENTS AND NATIVITY OF PARENTS\n",
    "\n",
    "B05010_001E: Estimate!!Total\n",
    "\n",
    "B05010_002E: Estimate!!Total!!Under 1.00\n",
    "\n",
    "B05010_010E: Estimate!!Total!!1.00 to 1.99\n",
    "\n",
    "B05010_018E: Estimate!!Total!!2.0 and over\n",
    "\n",
    "B07011: MEDIAN INCOME IN THE PAST 12 MONTHS (IN 2016 INFLATION-ADJUSTED DOLLARS) BY GEOGRAPHICAL MOBILITY IN THE PAST YEAR FOR CURRENT RESIDENCE IN THE UNITED STATES\n",
    "\n",
    "B07011_001E: \tEstimate!!Median income in the past 12 months!!Total\n",
    "\n",
    "B08006: \tSEX OF WORKERS BY MEANS OF TRANSPORTATION TO WORK\n",
    "\n",
    "B08303: TRAVEL TIME TO WORK\n",
    "\n"
   ],
   "cell_type": "markdown",
   "metadata": {}
  },
  {
   "source": [
    "Demographic variables to get for hometowns:\n",
    "  - Median income\n",
    "  - Educational attainment\n",
    "  - Ratio of young men to young women (22-34)\n",
    "\n",
    "Other possibilities:\n",
    "  - Travel time to work\n",
    "  - Average household size\n",
    "  - Distance between hometowns\n",
    "  - Population density"
   ],
   "cell_type": "markdown",
   "metadata": {}
  },
  {
   "cell_type": "code",
   "execution_count": 42,
   "metadata": {
    "tags": []
   },
   "outputs": [
    {
     "output_type": "stream",
     "name": "stdout",
     "text": "error: invalid 'for' argument\n"
    }
   ],
   "source": [
    "# get some ACS5 data\n",
    "import requests\n",
    "HOST = 'https://api.census.gov/data'\n",
    "year='2018'\n",
    "dataset='acs/acs5'\n",
    "base_url = '/'.join([HOST, year, dataset])\n",
    "get_vars = ['NAME', 'B05010_001E']\n",
    "predicates = {}\n",
    "predicates['get'] = ','.join(get_vars)\n",
    "predicates['for'] = '06075'\n",
    "r = requests.get(base_url, params=predicates)\n",
    "print(r.text)"
   ]
  },
  {
   "cell_type": "code",
   "execution_count": 43,
   "metadata": {},
   "outputs": [],
   "source": [
    "import geopy\n",
    "from geopy.geocoders import Nominatim\n",
    "geolocator = Nominatim(user_agent='djh-test')\n",
    "\n",
    "def get_lat_long(town):\n",
    "    location = geolocator.geocode(town)\n",
    "    latitude = location.latitude\n",
    "    longitude = location.longitude\n",
    "    return latitude, longitude\n",
    "\n",
    "def get_fips(latitude, longitude):\n",
    "    base_url = 'https://geo.fcc.gov/api/census/block/find?'\n",
    "    fcc_api_url = '&'.join([base_url, f'latitude={latitude}', f'longitude={longitude}', 'format=json'])\n",
    "    r = requests.get(fcc_api_url)\n",
    "    county_fips = r.json()['County']['FIPS']\n",
    "    return county_fips"
   ]
  },
  {
   "cell_type": "code",
   "execution_count": 44,
   "metadata": {
    "tags": []
   },
   "outputs": [],
   "source": [
    "# Test for a few \n",
    "#print(get_fips('Miami, Florida'))\n",
    "#print(get_fips('Wagener, South Carolina'))\n",
    "#print(get_fips('Loveland, Colorado'))\n",
    "#print(get_fips('Richmond, VA'))\n",
    "#print(get_fips('London, England'))"
   ]
  },
  {
   "cell_type": "code",
   "execution_count": 45,
   "metadata": {},
   "outputs": [],
   "source": [
    "def get_census_data_for_fips(fips):\n",
    "    HOST = 'https://api.census.gov/data'\n",
    "    year='2018'\n",
    "    dataset='acs/acs5'\n",
    "    base_url = '/'.join([HOST, year, dataset])\n",
    "    get_vars = ['NAME', 'B05010_001E']\n",
    "    predicates = {}\n",
    "    predicates['get'] = ','.join(get_vars)\n",
    "    predicates['for'] = f'for=county:{fips[2:]}&in=state:{fips[:2]}'\n",
    "    url = base_url+'?get='+predicates['get']+'&'+predicates['for']\n",
    "    #url = '&'.join([base_url, predicates['get'], predicates['for']])\n",
    "    r = requests.get(url)\n",
    "    return r.text\n",
    "\n",
    "def get_census_data_for_town(town):\n",
    "    latitude, longitude = get_lat_long(town)\n",
    "    fips = get_fips(latitude, longitude)\n",
    "    data = get_census_data_for_fips(fips)\n",
    "    return data"
   ]
  },
  {
   "cell_type": "code",
   "execution_count": 52,
   "metadata": {
    "tags": []
   },
   "outputs": [],
   "source": [
    "data = get_census_data_for_town('San Francisco, California')"
   ]
  },
  {
   "cell_type": "code",
   "execution_count": 53,
   "metadata": {
    "tags": []
   },
   "outputs": [
    {
     "output_type": "stream",
     "name": "stdout",
     "text": "[[\"NAME\",\"B05010_001E\",\"state\",\"county\"],\n[\"San Francisco County, California\",\"111951\",\"06\",\"075\"]]\n"
    }
   ],
   "source": [
    "print(data)"
   ]
  },
  {
   "cell_type": "code",
   "execution_count": null,
   "metadata": {},
   "outputs": [],
   "source": []
  }
 ]
}