{
 "metadata": {
  "language_info": {
   "codemirror_mode": {
    "name": "ipython",
    "version": 3
   },
   "file_extension": ".py",
   "mimetype": "text/x-python",
   "name": "python",
   "nbconvert_exporter": "python",
   "pygments_lexer": "ipython3",
   "version": "3.6.9-final"
  },
  "orig_nbformat": 2,
  "kernelspec": {
   "name": "python_defaultSpec_1600202795503",
   "display_name": "Python 3.6.9 64-bit ('base': conda)"
  }
 },
 "nbformat": 4,
 "nbformat_minor": 2,
 "cells": [
  {
   "cell_type": "markdown",
   "metadata": {},
   "source": [
    "# Bachelortron: Predicting performance of Bachelor and Bachelorette contestants from contestant data"
   ]
  },
  {
   "cell_type": "code",
   "execution_count": 2,
   "metadata": {},
   "outputs": [],
   "source": [
    "import numpy as np \n",
    "import pandas as pd"
   ]
  },
  {
   "cell_type": "code",
   "execution_count": 3,
   "metadata": {},
   "outputs": [
    {
     "output_type": "execute_result",
     "data": {
      "text/plain": "\"\\ndata = pd.read_csv('historical_bachelor_contestants.csv')\\n\""
     },
     "metadata": {},
     "execution_count": 3
    }
   ],
   "source": [
    "\"\"\"\n",
    "data = pd.read_csv('historical_bachelor_contestants.csv')\n",
    "\"\"\""
   ]
  },
  {
   "cell_type": "code",
   "execution_count": 4,
   "metadata": {
    "tags": []
   },
   "outputs": [
    {
     "output_type": "execute_result",
     "data": {
      "text/plain": "\"\\ndata = data.rename(columns={'Unnamed: 0': 'id'})\\ndata['Name'] = data['Name'].str.split('[').str[0]    # remove references at end\\ndata = data.set_index('id')\\ndata[data.Season == 20].head(50)\\n\""
     },
     "metadata": {},
     "execution_count": 4
    }
   ],
   "source": [
    "# Clean up data\n",
    "\"\"\"\n",
    "data = data.rename(columns={'Unnamed: 0': 'id'})\n",
    "data['Name'] = data['Name'].str.split('[').str[0]    # remove references at end\n",
    "data = data.set_index('id')\n",
    "data[data.Season == 20].head(50)\n",
    "\"\"\""
   ]
  },
  {
   "cell_type": "code",
   "execution_count": 5,
   "metadata": {},
   "outputs": [],
   "source": [
    "#data[data.Season == 19].head(30)"
   ]
  },
  {
   "cell_type": "code",
   "execution_count": 6,
   "metadata": {},
   "outputs": [],
   "source": [
    "#data.Season.value_counts()"
   ]
  },
  {
   "cell_type": "code",
   "execution_count": 7,
   "metadata": {},
   "outputs": [],
   "source": [
    "data = pd.read_csv('reddit_bachelor_data.csv')"
   ]
  },
  {
   "cell_type": "code",
   "execution_count": 8,
   "metadata": {},
   "outputs": [
    {
     "output_type": "execute_result",
     "data": {
      "text/plain": "Austin, Texas                55\nArlington, Iowa              30\nMilan, Italy                 27\nMiami, Florida               27\nMcKinney, Texas              26\nToronto, Ontario             25\nLancaster, Pennsylvania      25\nDallas, Texas                25\nButler, Missouri             25\nLondon, England              25\nSonoma, California           25\nCleveland, Ohio              25\nCharlottesville, Virginia    25\nName: Bachelor_Hometown, dtype: int64"
     },
     "metadata": {},
     "execution_count": 8
    }
   ],
   "source": [
    "data['Bachelor_Hometown'].value_counts()"
   ]
  },
  {
   "cell_type": "code",
   "execution_count": 9,
   "metadata": {},
   "outputs": [
    {
     "output_type": "error",
     "ename": "SyntaxError",
     "evalue": "invalid syntax (<ipython-input-9-152f0c73ff59>, line 1)",
     "traceback": [
      "\u001b[0;36m  File \u001b[0;32m\"<ipython-input-9-152f0c73ff59>\"\u001b[0;36m, line \u001b[0;32m1\u001b[0m\n\u001b[0;31m    hometown_latitude =\u001b[0m\n\u001b[0m                       ^\u001b[0m\n\u001b[0;31mSyntaxError\u001b[0m\u001b[0;31m:\u001b[0m invalid syntax\n"
     ]
    }
   ],
   "source": [
    "hometown_latitude ="
   ]
  },
  {
   "cell_type": "code",
   "execution_count": 30,
   "metadata": {},
   "outputs": [
    {
     "output_type": "execute_result",
     "data": {
      "text/plain": "Cache, Oklahoma             1\nSanta Rosa, California      1\nLas Vegas, Nevada           1\nIndianapolis, Indiana[g]    1\nWestport, Connecticut       1\nMarshall, Missouri          1\nGurnee, Illinois            1\nItaly                       1\nFort Smith, Arkansas        1\nOakville, Ontario           1\nPhillipsburg, New Jersey    1\nForty Fort, Pennsylvania    1\nTampa, FL                   1\nAurora, Colorado            1\nLeduc, Alberta[c]           1\nEastchester, New York       1\nRichmond, VA                1\nBrookfield, Wisconsin       1\nSt. Charles, Illinois       1\nTerra Haute, Indiana        1\nPalos Hills, Illinois       1\nOklahoma City, Oklahoma     1\nWest Chester, Ohio          1\nLeawood, Kansas             1\nTemecula, California        1\nSalyersville, Kentucky      1\nTroutdale, Oregon           1\nCulpeper, Virginia          1\nGalloway, Ohio              1\nWichita, Kansas             1\nUnion, Kentucky             1\nSouthfield, Michigan        1\nNorman, Oklahoma            1\nHolland, Pennsylvania       1\nCarrboro, North Carolina    1\nMaple Valley, Washington    1\nNorthglenn, Colorado        1\nKansas City, Missouri       1\nDenver, Colorado            1\nShreveport, Louisiana[b]    1\nLoveland, Colorado          1\nWagener, South Carolina     1\nNewton, Massachusetts       1\nIowa City, Iowa             1\nLa Vergne, Tennessee        1\nWellington, Florida         1\nGarner, North Carolina      1\nMacomb, Michigan            1\nAurora, Illinois            1\nLondon, England             1\nName: Hometown, dtype: int64"
     },
     "metadata": {},
     "execution_count": 30
    }
   ],
   "source": [
    "data['Hometown'].value_counts()[-50:]"
   ]
  },
  {
   "cell_type": "code",
   "execution_count": 11,
   "metadata": {},
   "outputs": [
    {
     "output_type": "execute_result",
     "data": {
      "text/plain": "Week 1           132\nWeek 2            52\nWeek 3            44\nWeek 4            37\nWeek 5            24\nWeek 6            21\nWeek 7            17\nWinner            13\nWeek 8             8\nRunner-up          8\nWeek 9             5\nWeek 2 (Quit)      2\nRunner-Up          2\nName: Eliminated, dtype: int64"
     },
     "metadata": {},
     "execution_count": 11
    }
   ],
   "source": [
    "stuff = data.loc[:, ['Age', 'Eliminated', 'Season']]\n",
    "stuff['Eliminated'].value_counts()"
   ]
  },
  {
   "cell_type": "code",
   "execution_count": 12,
   "metadata": {},
   "outputs": [
    {
     "output_type": "execute_result",
     "data": {
      "text/plain": "   Age     Eliminated  Season\n25  27         Winner       2\n26  22      Runner-Up       2\n27  31         Week 6       2\n28  27         Week 5       2\n29  28         Week 4       2\n30  30         Week 4       2\n31  23         Week 3       2\n32  24         Week 3       2\n33  22         Week 3       2\n34  26         Week 3       2\n35  24         Week 2       2\n36  25         Week 2       2\n37  33         Week 2       2\n38  30  Week 2 (Quit)       2\n39  27  Week 2 (Quit)       2\n40  26         Week 1       2\n41  29         Week 1       2\n42  29         Week 1       2\n43  24         Week 1       2\n44  24         Week 1       2\n45  22         Week 1       2\n46  30         Week 1       2\n47  26         Week 1       2\n48  28         Week 1       2\n49  28         Week 1       2",
      "text/html": "<div>\n<style scoped>\n    .dataframe tbody tr th:only-of-type {\n        vertical-align: middle;\n    }\n\n    .dataframe tbody tr th {\n        vertical-align: top;\n    }\n\n    .dataframe thead th {\n        text-align: right;\n    }\n</style>\n<table border=\"1\" class=\"dataframe\">\n  <thead>\n    <tr style=\"text-align: right;\">\n      <th></th>\n      <th>Age</th>\n      <th>Eliminated</th>\n      <th>Season</th>\n    </tr>\n  </thead>\n  <tbody>\n    <tr>\n      <td>25</td>\n      <td>27</td>\n      <td>Winner</td>\n      <td>2</td>\n    </tr>\n    <tr>\n      <td>26</td>\n      <td>22</td>\n      <td>Runner-Up</td>\n      <td>2</td>\n    </tr>\n    <tr>\n      <td>27</td>\n      <td>31</td>\n      <td>Week 6</td>\n      <td>2</td>\n    </tr>\n    <tr>\n      <td>28</td>\n      <td>27</td>\n      <td>Week 5</td>\n      <td>2</td>\n    </tr>\n    <tr>\n      <td>29</td>\n      <td>28</td>\n      <td>Week 4</td>\n      <td>2</td>\n    </tr>\n    <tr>\n      <td>30</td>\n      <td>30</td>\n      <td>Week 4</td>\n      <td>2</td>\n    </tr>\n    <tr>\n      <td>31</td>\n      <td>23</td>\n      <td>Week 3</td>\n      <td>2</td>\n    </tr>\n    <tr>\n      <td>32</td>\n      <td>24</td>\n      <td>Week 3</td>\n      <td>2</td>\n    </tr>\n    <tr>\n      <td>33</td>\n      <td>22</td>\n      <td>Week 3</td>\n      <td>2</td>\n    </tr>\n    <tr>\n      <td>34</td>\n      <td>26</td>\n      <td>Week 3</td>\n      <td>2</td>\n    </tr>\n    <tr>\n      <td>35</td>\n      <td>24</td>\n      <td>Week 2</td>\n      <td>2</td>\n    </tr>\n    <tr>\n      <td>36</td>\n      <td>25</td>\n      <td>Week 2</td>\n      <td>2</td>\n    </tr>\n    <tr>\n      <td>37</td>\n      <td>33</td>\n      <td>Week 2</td>\n      <td>2</td>\n    </tr>\n    <tr>\n      <td>38</td>\n      <td>30</td>\n      <td>Week 2 (Quit)</td>\n      <td>2</td>\n    </tr>\n    <tr>\n      <td>39</td>\n      <td>27</td>\n      <td>Week 2 (Quit)</td>\n      <td>2</td>\n    </tr>\n    <tr>\n      <td>40</td>\n      <td>26</td>\n      <td>Week 1</td>\n      <td>2</td>\n    </tr>\n    <tr>\n      <td>41</td>\n      <td>29</td>\n      <td>Week 1</td>\n      <td>2</td>\n    </tr>\n    <tr>\n      <td>42</td>\n      <td>29</td>\n      <td>Week 1</td>\n      <td>2</td>\n    </tr>\n    <tr>\n      <td>43</td>\n      <td>24</td>\n      <td>Week 1</td>\n      <td>2</td>\n    </tr>\n    <tr>\n      <td>44</td>\n      <td>24</td>\n      <td>Week 1</td>\n      <td>2</td>\n    </tr>\n    <tr>\n      <td>45</td>\n      <td>22</td>\n      <td>Week 1</td>\n      <td>2</td>\n    </tr>\n    <tr>\n      <td>46</td>\n      <td>30</td>\n      <td>Week 1</td>\n      <td>2</td>\n    </tr>\n    <tr>\n      <td>47</td>\n      <td>26</td>\n      <td>Week 1</td>\n      <td>2</td>\n    </tr>\n    <tr>\n      <td>48</td>\n      <td>28</td>\n      <td>Week 1</td>\n      <td>2</td>\n    </tr>\n    <tr>\n      <td>49</td>\n      <td>28</td>\n      <td>Week 1</td>\n      <td>2</td>\n    </tr>\n  </tbody>\n</table>\n</div>"
     },
     "metadata": {},
     "execution_count": 12
    }
   ],
   "source": [
    "stuff[stuff['Season'] == 2]"
   ]
  },
  {
   "cell_type": "code",
   "execution_count": 13,
   "metadata": {
    "tags": []
   },
   "outputs": [
    {
     "output_type": "stream",
     "name": "stdout",
     "text": "0    7\n1    6\n2    5\n3    4\n4    3\nName: Eliminated, dtype: object\n25    8\n26    7\n27    6\n28    5\n29    4\nName: Eliminated, dtype: object\n50    9\n51    7\n52    6\n53    5\n54    4\nName: Eliminated, dtype: object\n75    9\n76    7\n77    6\n78    5\n79    4\nName: Eliminated, dtype: object\n102    10\n103     8\n104     7\n105     6\n106     5\nName: Eliminated, dtype: object\n127    8\n128    8\n129    7\n130    6\n131    5\nName: Eliminated, dtype: object\n152    9\n153    8\n154    7\n155    6\n156    5\nName: Eliminated, dtype: object\n177    9\n178    8\n179    7\n180    6\n181    5\nName: Eliminated, dtype: object\n202    9\n203    8\n204    7\n205    6\n206    5\nName: Eliminated, dtype: object\n227    11\n228    10\n229     9\n230     8\n231     7\nName: Eliminated, dtype: object\n257    11\n258    10\n259     9\n260     8\n261     7\nName: Eliminated, dtype: object\n282    11\n283    10\n284     9\n285     8\n286     7\nName: Eliminated, dtype: object\n308    11\n309    10\n310     9\n311     8\n312     7\nName: Eliminated, dtype: object\n335    11\n336    10\n337     9\n338     8\n339     7\nName: Eliminated, dtype: object\n"
    }
   ],
   "source": [
    "# preprocess Eliminated column\n",
    "for season in stuff['Season'].unique():\n",
    "    in_season = stuff[stuff['Season'] == season]\n",
    "    week_number = in_season['Eliminated'].str.replace(' \\(Quit\\)', '').str.split(' ').str[-1]\n",
    "    max_week = week_number[week_number.str.isnumeric()].max()\n",
    "    week_number = week_number.replace({\n",
    "        'Winner': str(int(max_week)+2),\n",
    "        'Runner-Up': str(int(max_week)+1),\n",
    "        'Runner-up': str(int(max_week)+1)\n",
    "    }).astype(int)\n",
    "    #print(week_number)\n",
    "    #%%\n",
    "    stuff['Eliminated'][stuff['Season'] == season] = week_number\n",
    "    print(stuff[stuff['Season'] == season]['Eliminated'].head(5))\n",
    "\n"
   ]
  },
  {
   "cell_type": "code",
   "execution_count": 14,
   "metadata": {},
   "outputs": [
    {
     "output_type": "execute_result",
     "data": {
      "text/plain": "  Age Eliminated  Season\n0  23          7       1\n1  29          6       1\n2  24          5       1\n3  24          4       1\n4  22          3       1\n5  28          3       1\n6  23          3       1\n7  28          3       1\n8  27          2       1\n9  28          2       1",
      "text/html": "<div>\n<style scoped>\n    .dataframe tbody tr th:only-of-type {\n        vertical-align: middle;\n    }\n\n    .dataframe tbody tr th {\n        vertical-align: top;\n    }\n\n    .dataframe thead th {\n        text-align: right;\n    }\n</style>\n<table border=\"1\" class=\"dataframe\">\n  <thead>\n    <tr style=\"text-align: right;\">\n      <th></th>\n      <th>Age</th>\n      <th>Eliminated</th>\n      <th>Season</th>\n    </tr>\n  </thead>\n  <tbody>\n    <tr>\n      <td>0</td>\n      <td>23</td>\n      <td>7</td>\n      <td>1</td>\n    </tr>\n    <tr>\n      <td>1</td>\n      <td>29</td>\n      <td>6</td>\n      <td>1</td>\n    </tr>\n    <tr>\n      <td>2</td>\n      <td>24</td>\n      <td>5</td>\n      <td>1</td>\n    </tr>\n    <tr>\n      <td>3</td>\n      <td>24</td>\n      <td>4</td>\n      <td>1</td>\n    </tr>\n    <tr>\n      <td>4</td>\n      <td>22</td>\n      <td>3</td>\n      <td>1</td>\n    </tr>\n    <tr>\n      <td>5</td>\n      <td>28</td>\n      <td>3</td>\n      <td>1</td>\n    </tr>\n    <tr>\n      <td>6</td>\n      <td>23</td>\n      <td>3</td>\n      <td>1</td>\n    </tr>\n    <tr>\n      <td>7</td>\n      <td>28</td>\n      <td>3</td>\n      <td>1</td>\n    </tr>\n    <tr>\n      <td>8</td>\n      <td>27</td>\n      <td>2</td>\n      <td>1</td>\n    </tr>\n    <tr>\n      <td>9</td>\n      <td>28</td>\n      <td>2</td>\n      <td>1</td>\n    </tr>\n  </tbody>\n</table>\n</div>"
     },
     "metadata": {},
     "execution_count": 14
    }
   ],
   "source": [
    "stuff.head(10)"
   ]
  },
  {
   "cell_type": "code",
   "execution_count": 15,
   "metadata": {},
   "outputs": [
    {
     "output_type": "execute_result",
     "data": {
      "text/plain": "25    60\n26    50\n24    49\n27    45\n28    33\n23    29\n29    28\n30    20\n22    14\n33    10\n31     9\n32     7\n34     3\n21     2\n35     2\n25     1\n22     1\n36     1\nName: Age, dtype: int64"
     },
     "metadata": {},
     "execution_count": 15
    }
   ],
   "source": [
    "stuff['Age'] = stuff['Age'].replace({'22[1]': 22, '25[2]': 25})\n",
    "stuff['Age'].value_counts()"
   ]
  },
  {
   "cell_type": "code",
   "execution_count": 16,
   "metadata": {},
   "outputs": [],
   "source": [
    "x = np.expand_dims(stuff['Age'].astype(float).values, axis=1)\n",
    "y = stuff['Eliminated'].astype(float)\n",
    "q = stuff['Season'].value_counts().sort_index().astype(float).values"
   ]
  },
  {
   "cell_type": "code",
   "execution_count": 68,
   "metadata": {},
   "outputs": [
    {
     "output_type": "execute_result",
     "data": {
      "text/plain": "(365,)"
     },
     "metadata": {},
     "execution_count": 68
    }
   ],
   "source": []
  },
  {
   "cell_type": "code",
   "execution_count": 17,
   "metadata": {},
   "outputs": [
    {
     "output_type": "execute_result",
     "data": {
      "text/plain": "LGBMRanker(boosting_type='gbdt', class_weight=None, colsample_bytree=1.0,\n           importance_type='split', learning_rate=0.1, max_depth=-1,\n           min_child_samples=20, min_child_weight=0.001, min_split_gain=0.0,\n           n_estimators=100, n_jobs=-1, num_leaves=31, objective=None,\n           random_state=None, reg_alpha=0.0, reg_lambda=0.0, silent=True,\n           subsample=1.0, subsample_for_bin=200000, subsample_freq=0)"
     },
     "metadata": {},
     "execution_count": 17
    }
   ],
   "source": [
    "import lightgbm as lgb\n",
    "gbm = lgb.LGBMRanker()\n",
    "gbm.fit(x, y, group=q, verbose=True)"
   ]
  },
  {
   "cell_type": "code",
   "execution_count": 18,
   "metadata": {
    "tags": []
   },
   "outputs": [
    {
     "output_type": "stream",
     "name": "stdout",
     "text": "[ 0.04118599 -0.45631349 -0.58526411 -0.58526411  0.60195109 -0.882311\n  0.04118599 -0.882311   -0.54642588 -0.882311   -0.19894764 -0.54642588\n  0.04118599 -0.19894764 -0.54642588 -0.45631349 -1.16484305 -1.16484305\n  0.60195109 -1.16484305 -0.54642588 -0.45631349 -0.58526411 -0.45631349\n  0.15073442 -0.54642588  0.60195109 -1.16484305 -0.54642588 -0.882311\n -1.16484305  0.04118599 -0.58526411  0.60195109  0.15073442 -0.58526411\n -0.19894764 -0.96780289 -1.16484305 -0.54642588  0.15073442 -0.45631349\n -0.45631349 -0.58526411 -0.58526411  0.60195109 -1.16484305  0.15073442\n -0.882311   -0.882311    0.60195109  0.04118599  0.15073442 -0.882311\n  0.04118599 -0.882311   -0.19894764 -0.58526411  0.15073442  0.60195109\n  0.15073442 -0.54642588 -0.54642588 -0.54642588 -0.19894764 -0.19894764\n -0.58526411 -0.58526411  0.15073442 -0.19894764 -0.19894764  0.60195109\n  0.15073442  0.15073442 -0.19894764 -0.58526411  0.04118599 -0.19894764\n -0.58526411  0.04118599  0.60195109 -0.54642588 -0.882311    0.04118599\n -1.16484305 -0.54642588 -1.16484305 -0.58526411 -0.54642588 -0.45631349\n -1.16484305 -0.54642588 -0.45631349 -0.19894764 -0.96780289 -0.54642588\n -1.30891592  0.60195109 -0.19894764 -0.882311   -0.882311    0.04118599\n  0.15073442 -0.882311   -0.19894764  0.04118599  0.04118599  0.15073442\n -0.58526411  0.15073442 -0.54642588  0.15073442 -0.58526411 -0.58526411\n  0.15073442  0.04118599 -0.882311   -0.45631349  0.04118599  0.04118599\n  0.15073442  0.04118599 -0.54642588 -0.96780289 -0.96780289  0.60195109\n -0.54642588 -0.19894764 -0.54642588 -0.54642588  0.04118599 -0.54642588\n -0.45631349  0.15073442 -0.58526411  0.15073442 -0.19894764  0.04118599\n -0.19894764 -1.16484305 -0.58526411 -0.19894764 -0.54642588 -0.58526411\n -1.16484305 -0.96780289 -0.882311   -0.58526411 -0.19894764 -1.16484305\n -1.16484305 -0.96780289  0.60195109 -0.19894764 -0.54642588  0.15073442\n -0.54642588  0.60195109  0.60195109 -0.19894764 -0.58526411  0.60195109\n -0.96780289 -0.96780289 -0.19894764 -0.19894764 -0.882311   -0.58526411\n  0.15073442 -1.16484305 -0.58526411  0.04118599 -0.96780289 -1.16484305\n  0.15073442  0.04118599 -0.96780289 -0.19894764 -0.58526411 -0.45631349\n -0.58526411 -0.96780289 -0.54642588 -0.19894764 -0.45631349 -0.45631349\n -0.19894764 -0.54642588 -0.54642588 -0.54642588 -0.96780289 -0.882311\n -0.58526411  0.15073442  0.04118599  0.15073442  0.15073442 -0.19894764\n -0.96780289  0.04118599 -0.58526411 -0.882311    0.04118599 -0.19894764\n  0.15073442 -0.19894764  0.04118599 -0.19894764 -0.19894764 -0.19894764\n -1.16484305 -0.45631349 -0.96780289  0.15073442 -0.45631349 -0.19894764\n -0.882311   -0.19894764 -0.58526411 -0.45631349 -0.45631349  0.04118599\n -0.58526411 -0.19894764 -0.19894764 -0.58526411 -1.16484305 -0.19894764\n -0.882311    0.15073442 -0.19894764 -1.16484305 -0.19894764  0.15073442\n -0.58526411 -0.58526411  0.15073442  0.15073442 -0.19894764 -1.16484305\n  0.15073442 -0.54642588 -0.54642588 -0.19894764 -0.882311   -0.96780289\n -0.45631349 -0.19894764 -1.16484305  0.15073442 -0.882311   -0.54642588\n  0.15073442 -0.54642588 -1.16484305 -0.882311   -0.19894764 -0.882311\n -0.54642588  0.15073442 -0.58526411 -0.54642588 -0.54642588 -0.19894764\n  0.15073442 -0.96780289 -0.882311   -0.58526411 -0.96780289  0.15073442\n  0.04118599 -0.54642588  0.15073442 -0.54642588 -0.882311    0.04118599\n -0.882311   -0.19894764 -1.16484305 -0.96780289 -0.45631349 -0.96780289\n  0.15073442 -0.58526411 -0.96780289  0.15073442 -0.58526411 -0.58526411\n -0.58526411 -0.45631349  0.15073442 -0.58526411 -0.19894764  0.15073442\n -0.882311   -0.19894764 -1.16484305 -0.19894764 -0.19894764 -1.16484305\n -0.54642588 -0.19894764 -0.882311   -0.882311   -0.45631349 -0.58526411\n -0.54642588 -0.19894764  0.15073442 -0.96780289  0.15073442 -0.96780289\n -0.58526411 -0.45631349 -0.45631349  0.60195109  0.15073442 -0.19894764\n -0.54642588 -0.54642588  0.15073442 -0.58526411 -0.19894764 -0.54642588\n -0.54642588 -0.58526411 -0.58526411 -1.16484305 -0.19894764  0.04118599\n  0.04118599 -0.19894764 -0.19894764 -0.19894764  0.15073442 -0.45631349\n -0.19894764 -0.45631349 -0.882311   -0.45631349 -0.54642588 -0.58526411\n -0.882311    0.15073442  0.60195109 -0.54642588 -0.58526411 -1.16484305\n  0.15073442 -0.19894764 -0.45631349 -0.45631349 -0.96780289 -0.58526411\n -0.58526411 -0.882311   -1.16484305  0.15073442 -0.58526411 -0.19894764\n  0.15073442 -0.19894764 -0.19894764 -1.16484305 -0.882311  ]\n"
    },
    {
     "output_type": "execute_result",
     "data": {
      "text/plain": "SpearmanrResult(correlation=0.13221192890484887, pvalue=0.01146001658243384)"
     },
     "metadata": {},
     "execution_count": 18
    }
   ],
   "source": [
    "from scipy.stats import spearmanr\n",
    "preds_train = gbm.predict(x)\n",
    "print(preds_train)\n",
    "spearmanr(y, preds_train)"
   ]
  },
  {
   "cell_type": "code",
   "execution_count": 19,
   "metadata": {},
   "outputs": [],
   "source": [
    "import matplotlib.pyplot as plt\n",
    "for season in stuff['Season'].unique():\n",
    "    in_range = stuff['Season'] == season\n",
    "    plt.figure()\n",
    "    plt.scatter(y[in_range], preds_train[in_range])\n",
    "    plt.title(season)"
   ]
  },
  {
   "cell_type": "code",
   "execution_count": 20,
   "metadata": {},
   "outputs": [
    {
     "output_type": "execute_result",
     "data": {
      "text/plain": "<seaborn.axisgrid.FacetGrid at 0x7fe495d9c208>"
     },
     "metadata": {},
     "execution_count": 20
    },
    {
     "output_type": "display_data",
     "data": {
      "text/plain": "<Figure size 432x288 with 0 Axes>"
     },
     "metadata": {}
    },
    {
     "output_type": "display_data",
     "data": {
      "text/plain": "<Figure size 360x360 with 1 Axes>",
      "image/svg+xml": "<?xml version=\"1.0\" encoding=\"utf-8\" standalone=\"no\"?>\n<!DOCTYPE svg PUBLIC \"-//W3C//DTD SVG 1.1//EN\"\n  \"http://www.w3.org/Graphics/SVG/1.1/DTD/svg11.dtd\">\n<!-- Created with matplotlib (https://matplotlib.org/) -->\n<svg height=\"352.15625pt\" version=\"1.1\" viewBox=\"0 0 351.745312 352.15625\" width=\"351.745312pt\" xmlns=\"http://www.w3.org/2000/svg\" xmlns:xlink=\"http://www.w3.org/1999/xlink\">\n <defs>\n  <style type=\"text/css\">\n*{stroke-linecap:butt;stroke-linejoin:round;}\n  </style>\n </defs>\n <g id=\"figure_1\">\n  <g id=\"patch_1\">\n   <path d=\"M 0 352.15625 \nL 351.745312 352.15625 \nL 351.745312 0 \nL 0 0 \nz\n\" style=\"fill:none;\"/>\n  </g>\n  <g id=\"axes_1\">\n   <g id=\"patch_2\">\n    <path d=\"M 58.801563 314.6 \nL 344.545313 314.6 \nL 344.545313 7.2 \nL 58.801563 7.2 \nz\n\" style=\"fill:#ffffff;\"/>\n   </g>\n   <g id=\"QuadMesh_1\">\n    <path clip-path=\"url(#pb1b6345e69)\" d=\"M 58.801563 314.6 \nL 87.375938 314.6 \nL 87.375938 286.654545 \nL 58.801563 286.654545 \nL 58.801563 314.6 \n\" style=\"fill:#2a97e2;\"/>\n    <path clip-path=\"url(#pb1b6345e69)\" d=\"M 87.375938 314.6 \nL 115.950313 314.6 \nL 115.950313 286.654545 \nL 87.375938 286.654545 \nL 87.375938 314.6 \n\" style=\"fill:#7fb8f3;\"/>\n    <path clip-path=\"url(#pb1b6345e69)\" d=\"M 115.950313 314.6 \nL 144.524688 314.6 \nL 144.524688 286.654545 \nL 115.950313 286.654545 \nL 115.950313 314.6 \n\" style=\"fill:#a6c6ef;\"/>\n    <path clip-path=\"url(#pb1b6345e69)\" d=\"M 144.524688 314.6 \nL 173.099063 314.6 \nL 173.099063 286.654545 \nL 144.524688 286.654545 \nL 144.524688 314.6 \n\" style=\"fill:#90bef1;\"/>\n    <path clip-path=\"url(#pb1b6345e69)\" d=\"M 173.099063 314.6 \nL 201.673438 314.6 \nL 201.673438 286.654545 \nL 173.099063 286.654545 \nL 173.099063 314.6 \n\" style=\"fill:none;\"/>\n    <path clip-path=\"url(#pb1b6345e69)\" d=\"M 201.673438 314.6 \nL 230.247813 314.6 \nL 230.247813 286.654545 \nL 201.673438 286.654545 \nL 201.673438 314.6 \n\" style=\"fill:#a6c6ef;\"/>\n    <path clip-path=\"url(#pb1b6345e69)\" d=\"M 230.247813 314.6 \nL 258.822188 314.6 \nL 258.822188 286.654545 \nL 230.247813 286.654545 \nL 230.247813 314.6 \n\" style=\"fill:#a6c6ef;\"/>\n    <path clip-path=\"url(#pb1b6345e69)\" d=\"M 258.822188 314.6 \nL 287.396563 314.6 \nL 287.396563 286.654545 \nL 258.822188 286.654545 \nL 258.822188 314.6 \n\" style=\"fill:none;\"/>\n    <path clip-path=\"url(#pb1b6345e69)\" d=\"M 287.396563 314.6 \nL 315.970938 314.6 \nL 315.970938 286.654545 \nL 287.396563 286.654545 \nL 287.396563 314.6 \n\" style=\"fill:none;\"/>\n    <path clip-path=\"url(#pb1b6345e69)\" d=\"M 315.970938 314.6 \nL 344.545313 314.6 \nL 344.545313 286.654545 \nL 315.970938 286.654545 \nL 315.970938 314.6 \n\" style=\"fill:none;\"/>\n    <path clip-path=\"url(#pb1b6345e69)\" d=\"M 58.801563 286.654545 \nL 87.375938 286.654545 \nL 87.375938 258.709091 \nL 58.801563 258.709091 \nL 58.801563 286.654545 \n\" style=\"fill:#56acf6;\"/>\n    <path clip-path=\"url(#pb1b6345e69)\" d=\"M 87.375938 286.654545 \nL 115.950313 286.654545 \nL 115.950313 258.709091 \nL 87.375938 258.709091 \nL 87.375938 286.654545 \n\" style=\"fill:#97c0f0;\"/>\n    <path clip-path=\"url(#pb1b6345e69)\" d=\"M 115.950313 286.654545 \nL 144.524688 286.654545 \nL 144.524688 258.709091 \nL 115.950313 258.709091 \nL 115.950313 286.654545 \n\" style=\"fill:#90bef1;\"/>\n    <path clip-path=\"url(#pb1b6345e69)\" d=\"M 144.524688 286.654545 \nL 173.099063 286.654545 \nL 173.099063 258.709091 \nL 144.524688 258.709091 \nL 144.524688 286.654545 \n\" style=\"fill:#a6c6ef;\"/>\n    <path clip-path=\"url(#pb1b6345e69)\" d=\"M 173.099063 286.654545 \nL 201.673438 286.654545 \nL 201.673438 258.709091 \nL 173.099063 258.709091 \nL 173.099063 286.654545 \n\" style=\"fill:#a6c6ef;\"/>\n    <path clip-path=\"url(#pb1b6345e69)\" d=\"M 201.673438 286.654545 \nL 230.247813 286.654545 \nL 230.247813 258.709091 \nL 201.673438 258.709091 \nL 201.673438 286.654545 \n\" style=\"fill:#a6c6ef;\"/>\n    <path clip-path=\"url(#pb1b6345e69)\" d=\"M 230.247813 286.654545 \nL 258.822188 286.654545 \nL 258.822188 258.709091 \nL 230.247813 258.709091 \nL 230.247813 286.654545 \n\" style=\"fill:none;\"/>\n    <path clip-path=\"url(#pb1b6345e69)\" d=\"M 258.822188 286.654545 \nL 287.396563 286.654545 \nL 287.396563 258.709091 \nL 258.822188 258.709091 \nL 258.822188 286.654545 \n\" style=\"fill:#a6c6ef;\"/>\n    <path clip-path=\"url(#pb1b6345e69)\" d=\"M 287.396563 286.654545 \nL 315.970938 286.654545 \nL 315.970938 258.709091 \nL 287.396563 258.709091 \nL 287.396563 286.654545 \n\" style=\"fill:#a6c6ef;\"/>\n    <path clip-path=\"url(#pb1b6345e69)\" d=\"M 315.970938 286.654545 \nL 344.545313 286.654545 \nL 344.545313 258.709091 \nL 315.970938 258.709091 \nL 315.970938 286.654545 \n\" style=\"fill:#a6c6ef;\"/>\n    <path clip-path=\"url(#pb1b6345e69)\" d=\"M 58.801563 258.709091 \nL 87.375938 258.709091 \nL 87.375938 230.763636 \nL 58.801563 230.763636 \nL 58.801563 258.709091 \n\" style=\"fill:#39a7f7;\"/>\n    <path clip-path=\"url(#pb1b6345e69)\" d=\"M 87.375938 258.709091 \nL 115.950313 258.709091 \nL 115.950313 230.763636 \nL 87.375938 230.763636 \nL 87.375938 258.709091 \n\" style=\"fill:#6db2f5;\"/>\n    <path clip-path=\"url(#pb1b6345e69)\" d=\"M 115.950313 258.709091 \nL 144.524688 258.709091 \nL 144.524688 230.763636 \nL 115.950313 230.763636 \nL 115.950313 258.709091 \n\" style=\"fill:#97c0f0;\"/>\n    <path clip-path=\"url(#pb1b6345e69)\" d=\"M 144.524688 258.709091 \nL 173.099063 258.709091 \nL 173.099063 230.763636 \nL 144.524688 230.763636 \nL 144.524688 258.709091 \n\" style=\"fill:#97c0f0;\"/>\n    <path clip-path=\"url(#pb1b6345e69)\" d=\"M 173.099063 258.709091 \nL 201.673438 258.709091 \nL 201.673438 230.763636 \nL 173.099063 230.763636 \nL 173.099063 258.709091 \n\" style=\"fill:#9fc3ef;\"/>\n    <path clip-path=\"url(#pb1b6345e69)\" d=\"M 201.673438 258.709091 \nL 230.247813 258.709091 \nL 230.247813 230.763636 \nL 201.673438 230.763636 \nL 201.673438 258.709091 \n\" style=\"fill:#a6c6ef;\"/>\n    <path clip-path=\"url(#pb1b6345e69)\" d=\"M 230.247813 258.709091 \nL 258.822188 258.709091 \nL 258.822188 230.763636 \nL 230.247813 230.763636 \nL 230.247813 258.709091 \n\" style=\"fill:none;\"/>\n    <path clip-path=\"url(#pb1b6345e69)\" d=\"M 258.822188 258.709091 \nL 287.396563 258.709091 \nL 287.396563 230.763636 \nL 258.822188 230.763636 \nL 258.822188 258.709091 \n\" style=\"fill:#9fc3ef;\"/>\n    <path clip-path=\"url(#pb1b6345e69)\" d=\"M 287.396563 258.709091 \nL 315.970938 258.709091 \nL 315.970938 230.763636 \nL 287.396563 230.763636 \nL 287.396563 258.709091 \n\" style=\"fill:none;\"/>\n    <path clip-path=\"url(#pb1b6345e69)\" d=\"M 315.970938 258.709091 \nL 344.545313 258.709091 \nL 344.545313 230.763636 \nL 315.970938 230.763636 \nL 315.970938 258.709091 \n\" style=\"fill:#9fc3ef;\"/>\n    <path clip-path=\"url(#pb1b6345e69)\" d=\"M 58.801563 230.763636 \nL 87.375938 230.763636 \nL 87.375938 202.818182 \nL 58.801563 202.818182 \nL 58.801563 230.763636 \n\" style=\"fill:none;\"/>\n    <path clip-path=\"url(#pb1b6345e69)\" d=\"M 87.375938 230.763636 \nL 115.950313 230.763636 \nL 115.950313 202.818182 \nL 87.375938 202.818182 \nL 87.375938 230.763636 \n\" style=\"fill:none;\"/>\n    <path clip-path=\"url(#pb1b6345e69)\" d=\"M 115.950313 230.763636 \nL 144.524688 230.763636 \nL 144.524688 202.818182 \nL 115.950313 202.818182 \nL 115.950313 230.763636 \n\" style=\"fill:none;\"/>\n    <path clip-path=\"url(#pb1b6345e69)\" d=\"M 144.524688 230.763636 \nL 173.099063 230.763636 \nL 173.099063 202.818182 \nL 144.524688 202.818182 \nL 144.524688 230.763636 \n\" style=\"fill:none;\"/>\n    <path clip-path=\"url(#pb1b6345e69)\" d=\"M 173.099063 230.763636 \nL 201.673438 230.763636 \nL 201.673438 202.818182 \nL 173.099063 202.818182 \nL 173.099063 230.763636 \n\" style=\"fill:none;\"/>\n    <path clip-path=\"url(#pb1b6345e69)\" d=\"M 201.673438 230.763636 \nL 230.247813 230.763636 \nL 230.247813 202.818182 \nL 201.673438 202.818182 \nL 201.673438 230.763636 \n\" style=\"fill:none;\"/>\n    <path clip-path=\"url(#pb1b6345e69)\" d=\"M 230.247813 230.763636 \nL 258.822188 230.763636 \nL 258.822188 202.818182 \nL 230.247813 202.818182 \nL 230.247813 230.763636 \n\" style=\"fill:none;\"/>\n    <path clip-path=\"url(#pb1b6345e69)\" d=\"M 258.822188 230.763636 \nL 287.396563 230.763636 \nL 287.396563 202.818182 \nL 258.822188 202.818182 \nL 258.822188 230.763636 \n\" style=\"fill:none;\"/>\n    <path clip-path=\"url(#pb1b6345e69)\" d=\"M 287.396563 230.763636 \nL 315.970938 230.763636 \nL 315.970938 202.818182 \nL 287.396563 202.818182 \nL 287.396563 230.763636 \n\" style=\"fill:none;\"/>\n    <path clip-path=\"url(#pb1b6345e69)\" d=\"M 315.970938 230.763636 \nL 344.545313 230.763636 \nL 344.545313 202.818182 \nL 315.970938 202.818182 \nL 315.970938 230.763636 \n\" style=\"fill:none;\"/>\n    <path clip-path=\"url(#pb1b6345e69)\" d=\"M 58.801563 202.818182 \nL 87.375938 202.818182 \nL 87.375938 174.872727 \nL 58.801563 174.872727 \nL 58.801563 202.818182 \n\" style=\"fill:#3d546e;\"/>\n    <path clip-path=\"url(#pb1b6345e69)\" d=\"M 87.375938 202.818182 \nL 115.950313 202.818182 \nL 115.950313 174.872727 \nL 87.375938 174.872727 \nL 87.375938 202.818182 \n\" style=\"fill:#2e86c8;\"/>\n    <path clip-path=\"url(#pb1b6345e69)\" d=\"M 115.950313 202.818182 \nL 144.524688 202.818182 \nL 144.524688 174.872727 \nL 115.950313 174.872727 \nL 115.950313 202.818182 \n\" style=\"fill:#2fa0f0;\"/>\n    <path clip-path=\"url(#pb1b6345e69)\" d=\"M 144.524688 202.818182 \nL 173.099063 202.818182 \nL 173.099063 174.872727 \nL 144.524688 174.872727 \nL 144.524688 202.818182 \n\" style=\"fill:#56acf6;\"/>\n    <path clip-path=\"url(#pb1b6345e69)\" d=\"M 173.099063 202.818182 \nL 201.673438 202.818182 \nL 201.673438 174.872727 \nL 173.099063 174.872727 \nL 173.099063 202.818182 \n\" style=\"fill:#48a9f7;\"/>\n    <path clip-path=\"url(#pb1b6345e69)\" d=\"M 201.673438 202.818182 \nL 230.247813 202.818182 \nL 230.247813 174.872727 \nL 201.673438 174.872727 \nL 201.673438 202.818182 \n\" style=\"fill:#76b5f4;\"/>\n    <path clip-path=\"url(#pb1b6345e69)\" d=\"M 230.247813 202.818182 \nL 258.822188 202.818182 \nL 258.822188 174.872727 \nL 230.247813 174.872727 \nL 230.247813 202.818182 \n\" style=\"fill:#48a9f7;\"/>\n    <path clip-path=\"url(#pb1b6345e69)\" d=\"M 258.822188 202.818182 \nL 287.396563 202.818182 \nL 287.396563 174.872727 \nL 258.822188 174.872727 \nL 258.822188 202.818182 \n\" style=\"fill:#90bef1;\"/>\n    <path clip-path=\"url(#pb1b6345e69)\" d=\"M 287.396563 202.818182 \nL 315.970938 202.818182 \nL 315.970938 174.872727 \nL 287.396563 174.872727 \nL 287.396563 202.818182 \n\" style=\"fill:#9fc3ef;\"/>\n    <path clip-path=\"url(#pb1b6345e69)\" d=\"M 315.970938 202.818182 \nL 344.545313 202.818182 \nL 344.545313 174.872727 \nL 315.970938 174.872727 \nL 315.970938 202.818182 \n\" style=\"fill:#97c0f0;\"/>\n    <path clip-path=\"url(#pb1b6345e69)\" d=\"M 58.801563 174.872727 \nL 87.375938 174.872727 \nL 87.375938 146.927273 \nL 58.801563 146.927273 \nL 58.801563 174.872727 \n\" style=\"fill:none;\"/>\n    <path clip-path=\"url(#pb1b6345e69)\" d=\"M 87.375938 174.872727 \nL 115.950313 174.872727 \nL 115.950313 146.927273 \nL 87.375938 146.927273 \nL 87.375938 174.872727 \n\" style=\"fill:none;\"/>\n    <path clip-path=\"url(#pb1b6345e69)\" d=\"M 115.950313 174.872727 \nL 144.524688 174.872727 \nL 144.524688 146.927273 \nL 115.950313 146.927273 \nL 115.950313 174.872727 \n\" style=\"fill:none;\"/>\n    <path clip-path=\"url(#pb1b6345e69)\" d=\"M 144.524688 174.872727 \nL 173.099063 174.872727 \nL 173.099063 146.927273 \nL 144.524688 146.927273 \nL 144.524688 174.872727 \n\" style=\"fill:none;\"/>\n    <path clip-path=\"url(#pb1b6345e69)\" d=\"M 173.099063 174.872727 \nL 201.673438 174.872727 \nL 201.673438 146.927273 \nL 173.099063 146.927273 \nL 173.099063 174.872727 \n\" style=\"fill:none;\"/>\n    <path clip-path=\"url(#pb1b6345e69)\" d=\"M 201.673438 174.872727 \nL 230.247813 174.872727 \nL 230.247813 146.927273 \nL 201.673438 146.927273 \nL 201.673438 174.872727 \n\" style=\"fill:none;\"/>\n    <path clip-path=\"url(#pb1b6345e69)\" d=\"M 230.247813 174.872727 \nL 258.822188 174.872727 \nL 258.822188 146.927273 \nL 230.247813 146.927273 \nL 230.247813 174.872727 \n\" style=\"fill:none;\"/>\n    <path clip-path=\"url(#pb1b6345e69)\" d=\"M 258.822188 174.872727 \nL 287.396563 174.872727 \nL 287.396563 146.927273 \nL 258.822188 146.927273 \nL 258.822188 174.872727 \n\" style=\"fill:none;\"/>\n    <path clip-path=\"url(#pb1b6345e69)\" d=\"M 287.396563 174.872727 \nL 315.970938 174.872727 \nL 315.970938 146.927273 \nL 287.396563 146.927273 \nL 287.396563 174.872727 \n\" style=\"fill:none;\"/>\n    <path clip-path=\"url(#pb1b6345e69)\" d=\"M 315.970938 174.872727 \nL 344.545313 174.872727 \nL 344.545313 146.927273 \nL 315.970938 146.927273 \nL 315.970938 174.872727 \n\" style=\"fill:none;\"/>\n    <path clip-path=\"url(#pb1b6345e69)\" d=\"M 58.801563 146.927273 \nL 87.375938 146.927273 \nL 87.375938 118.981818 \nL 58.801563 118.981818 \nL 58.801563 146.927273 \n\" style=\"fill:#2e86c8;\"/>\n    <path clip-path=\"url(#pb1b6345e69)\" d=\"M 87.375938 146.927273 \nL 115.950313 146.927273 \nL 115.950313 118.981818 \nL 87.375938 118.981818 \nL 87.375938 146.927273 \n\" style=\"fill:#56acf6;\"/>\n    <path clip-path=\"url(#pb1b6345e69)\" d=\"M 115.950313 146.927273 \nL 144.524688 146.927273 \nL 144.524688 118.981818 \nL 115.950313 118.981818 \nL 115.950313 146.927273 \n\" style=\"fill:#6db2f5;\"/>\n    <path clip-path=\"url(#pb1b6345e69)\" d=\"M 144.524688 146.927273 \nL 173.099063 146.927273 \nL 173.099063 118.981818 \nL 144.524688 118.981818 \nL 144.524688 146.927273 \n\" style=\"fill:#76b5f4;\"/>\n    <path clip-path=\"url(#pb1b6345e69)\" d=\"M 173.099063 146.927273 \nL 201.673438 146.927273 \nL 201.673438 118.981818 \nL 173.099063 118.981818 \nL 173.099063 146.927273 \n\" style=\"fill:#9fc3ef;\"/>\n    <path clip-path=\"url(#pb1b6345e69)\" d=\"M 201.673438 146.927273 \nL 230.247813 146.927273 \nL 230.247813 118.981818 \nL 201.673438 118.981818 \nL 201.673438 146.927273 \n\" style=\"fill:#97c0f0;\"/>\n    <path clip-path=\"url(#pb1b6345e69)\" d=\"M 230.247813 146.927273 \nL 258.822188 146.927273 \nL 258.822188 118.981818 \nL 230.247813 118.981818 \nL 230.247813 146.927273 \n\" style=\"fill:#9fc3ef;\"/>\n    <path clip-path=\"url(#pb1b6345e69)\" d=\"M 258.822188 146.927273 \nL 287.396563 146.927273 \nL 287.396563 118.981818 \nL 258.822188 118.981818 \nL 258.822188 146.927273 \n\" style=\"fill:#90bef1;\"/>\n    <path clip-path=\"url(#pb1b6345e69)\" d=\"M 287.396563 146.927273 \nL 315.970938 146.927273 \nL 315.970938 118.981818 \nL 287.396563 118.981818 \nL 287.396563 146.927273 \n\" style=\"fill:#a6c6ef;\"/>\n    <path clip-path=\"url(#pb1b6345e69)\" d=\"M 315.970938 146.927273 \nL 344.545313 146.927273 \nL 344.545313 118.981818 \nL 315.970938 118.981818 \nL 315.970938 146.927273 \n\" style=\"fill:#9fc3ef;\"/>\n    <path clip-path=\"url(#pb1b6345e69)\" d=\"M 58.801563 118.981818 \nL 87.375938 118.981818 \nL 87.375938 91.036364 \nL 58.801563 91.036364 \nL 58.801563 118.981818 \n\" style=\"fill:#39a7f7;\"/>\n    <path clip-path=\"url(#pb1b6345e69)\" d=\"M 87.375938 118.981818 \nL 115.950313 118.981818 \nL 115.950313 91.036364 \nL 87.375938 91.036364 \nL 87.375938 118.981818 \n\" style=\"fill:#9fc3ef;\"/>\n    <path clip-path=\"url(#pb1b6345e69)\" d=\"M 115.950313 118.981818 \nL 144.524688 118.981818 \nL 144.524688 91.036364 \nL 115.950313 91.036364 \nL 115.950313 118.981818 \n\" style=\"fill:#88bbf2;\"/>\n    <path clip-path=\"url(#pb1b6345e69)\" d=\"M 144.524688 118.981818 \nL 173.099063 118.981818 \nL 173.099063 91.036364 \nL 144.524688 91.036364 \nL 144.524688 118.981818 \n\" style=\"fill:#9fc3ef;\"/>\n    <path clip-path=\"url(#pb1b6345e69)\" d=\"M 173.099063 118.981818 \nL 201.673438 118.981818 \nL 201.673438 91.036364 \nL 173.099063 91.036364 \nL 173.099063 118.981818 \n\" style=\"fill:#9fc3ef;\"/>\n    <path clip-path=\"url(#pb1b6345e69)\" d=\"M 201.673438 118.981818 \nL 230.247813 118.981818 \nL 230.247813 91.036364 \nL 201.673438 91.036364 \nL 201.673438 118.981818 \n\" style=\"fill:#9fc3ef;\"/>\n    <path clip-path=\"url(#pb1b6345e69)\" d=\"M 230.247813 118.981818 \nL 258.822188 118.981818 \nL 258.822188 91.036364 \nL 230.247813 91.036364 \nL 230.247813 118.981818 \n\" style=\"fill:#97c0f0;\"/>\n    <path clip-path=\"url(#pb1b6345e69)\" d=\"M 258.822188 118.981818 \nL 287.396563 118.981818 \nL 287.396563 91.036364 \nL 258.822188 91.036364 \nL 258.822188 118.981818 \n\" style=\"fill:none;\"/>\n    <path clip-path=\"url(#pb1b6345e69)\" d=\"M 287.396563 118.981818 \nL 315.970938 118.981818 \nL 315.970938 91.036364 \nL 287.396563 91.036364 \nL 287.396563 118.981818 \n\" style=\"fill:#a6c6ef;\"/>\n    <path clip-path=\"url(#pb1b6345e69)\" d=\"M 315.970938 118.981818 \nL 344.545313 118.981818 \nL 344.545313 91.036364 \nL 315.970938 91.036364 \nL 315.970938 118.981818 \n\" style=\"fill:none;\"/>\n    <path clip-path=\"url(#pb1b6345e69)\" d=\"M 58.801563 91.036364 \nL 87.375938 91.036364 \nL 87.375938 63.090909 \nL 58.801563 63.090909 \nL 58.801563 91.036364 \n\" style=\"fill:#2b9ae7;\"/>\n    <path clip-path=\"url(#pb1b6345e69)\" d=\"M 87.375938 91.036364 \nL 115.950313 91.036364 \nL 115.950313 63.090909 \nL 87.375938 63.090909 \nL 87.375938 91.036364 \n\" style=\"fill:#97c0f0;\"/>\n    <path clip-path=\"url(#pb1b6345e69)\" d=\"M 115.950313 91.036364 \nL 144.524688 91.036364 \nL 144.524688 63.090909 \nL 115.950313 63.090909 \nL 115.950313 91.036364 \n\" style=\"fill:#88bbf2;\"/>\n    <path clip-path=\"url(#pb1b6345e69)\" d=\"M 144.524688 91.036364 \nL 173.099063 91.036364 \nL 173.099063 63.090909 \nL 144.524688 63.090909 \nL 144.524688 91.036364 \n\" style=\"fill:#6db2f5;\"/>\n    <path clip-path=\"url(#pb1b6345e69)\" d=\"M 173.099063 91.036364 \nL 201.673438 91.036364 \nL 201.673438 63.090909 \nL 173.099063 63.090909 \nL 173.099063 91.036364 \n\" style=\"fill:#90bef1;\"/>\n    <path clip-path=\"url(#pb1b6345e69)\" d=\"M 201.673438 91.036364 \nL 230.247813 91.036364 \nL 230.247813 63.090909 \nL 201.673438 63.090909 \nL 201.673438 91.036364 \n\" style=\"fill:#7fb8f3;\"/>\n    <path clip-path=\"url(#pb1b6345e69)\" d=\"M 230.247813 91.036364 \nL 258.822188 91.036364 \nL 258.822188 63.090909 \nL 230.247813 63.090909 \nL 230.247813 91.036364 \n\" style=\"fill:#a6c6ef;\"/>\n    <path clip-path=\"url(#pb1b6345e69)\" d=\"M 258.822188 91.036364 \nL 287.396563 91.036364 \nL 287.396563 63.090909 \nL 258.822188 63.090909 \nL 258.822188 91.036364 \n\" style=\"fill:#a6c6ef;\"/>\n    <path clip-path=\"url(#pb1b6345e69)\" d=\"M 287.396563 91.036364 \nL 315.970938 91.036364 \nL 315.970938 63.090909 \nL 287.396563 63.090909 \nL 287.396563 91.036364 \n\" style=\"fill:#97c0f0;\"/>\n    <path clip-path=\"url(#pb1b6345e69)\" d=\"M 315.970938 91.036364 \nL 344.545313 91.036364 \nL 344.545313 63.090909 \nL 315.970938 63.090909 \nL 315.970938 91.036364 \n\" style=\"fill:#97c0f0;\"/>\n    <path clip-path=\"url(#pb1b6345e69)\" d=\"M 58.801563 63.090909 \nL 87.375938 63.090909 \nL 87.375938 35.145455 \nL 58.801563 35.145455 \nL 58.801563 63.090909 \n\" style=\"fill:none;\"/>\n    <path clip-path=\"url(#pb1b6345e69)\" d=\"M 87.375938 63.090909 \nL 115.950313 63.090909 \nL 115.950313 35.145455 \nL 87.375938 35.145455 \nL 87.375938 63.090909 \n\" style=\"fill:none;\"/>\n    <path clip-path=\"url(#pb1b6345e69)\" d=\"M 115.950313 63.090909 \nL 144.524688 63.090909 \nL 144.524688 35.145455 \nL 115.950313 35.145455 \nL 115.950313 63.090909 \n\" style=\"fill:none;\"/>\n    <path clip-path=\"url(#pb1b6345e69)\" d=\"M 144.524688 63.090909 \nL 173.099063 63.090909 \nL 173.099063 35.145455 \nL 144.524688 35.145455 \nL 144.524688 63.090909 \n\" style=\"fill:none;\"/>\n    <path clip-path=\"url(#pb1b6345e69)\" d=\"M 173.099063 63.090909 \nL 201.673438 63.090909 \nL 201.673438 35.145455 \nL 173.099063 35.145455 \nL 173.099063 63.090909 \n\" style=\"fill:none;\"/>\n    <path clip-path=\"url(#pb1b6345e69)\" d=\"M 201.673438 63.090909 \nL 230.247813 63.090909 \nL 230.247813 35.145455 \nL 201.673438 35.145455 \nL 201.673438 63.090909 \n\" style=\"fill:none;\"/>\n    <path clip-path=\"url(#pb1b6345e69)\" d=\"M 230.247813 63.090909 \nL 258.822188 63.090909 \nL 258.822188 35.145455 \nL 230.247813 35.145455 \nL 230.247813 63.090909 \n\" style=\"fill:none;\"/>\n    <path clip-path=\"url(#pb1b6345e69)\" d=\"M 258.822188 63.090909 \nL 287.396563 63.090909 \nL 287.396563 35.145455 \nL 258.822188 35.145455 \nL 258.822188 63.090909 \n\" style=\"fill:none;\"/>\n    <path clip-path=\"url(#pb1b6345e69)\" d=\"M 287.396563 63.090909 \nL 315.970938 63.090909 \nL 315.970938 35.145455 \nL 287.396563 35.145455 \nL 287.396563 63.090909 \n\" style=\"fill:none;\"/>\n    <path clip-path=\"url(#pb1b6345e69)\" d=\"M 315.970938 63.090909 \nL 344.545313 63.090909 \nL 344.545313 35.145455 \nL 315.970938 35.145455 \nL 315.970938 63.090909 \n\" style=\"fill:none;\"/>\n    <path clip-path=\"url(#pb1b6345e69)\" d=\"M 58.801563 35.145455 \nL 87.375938 35.145455 \nL 87.375938 7.2 \nL 58.801563 7.2 \nL 58.801563 35.145455 \n\" style=\"fill:#88bbf2;\"/>\n    <path clip-path=\"url(#pb1b6345e69)\" d=\"M 87.375938 35.145455 \nL 115.950313 35.145455 \nL 115.950313 7.2 \nL 87.375938 7.2 \nL 87.375938 35.145455 \n\" style=\"fill:none;\"/>\n    <path clip-path=\"url(#pb1b6345e69)\" d=\"M 115.950313 35.145455 \nL 144.524688 35.145455 \nL 144.524688 7.2 \nL 115.950313 7.2 \nL 115.950313 35.145455 \n\" style=\"fill:#90bef1;\"/>\n    <path clip-path=\"url(#pb1b6345e69)\" d=\"M 144.524688 35.145455 \nL 173.099063 35.145455 \nL 173.099063 7.2 \nL 144.524688 7.2 \nL 144.524688 35.145455 \n\" style=\"fill:#9fc3ef;\"/>\n    <path clip-path=\"url(#pb1b6345e69)\" d=\"M 173.099063 35.145455 \nL 201.673438 35.145455 \nL 201.673438 7.2 \nL 173.099063 7.2 \nL 173.099063 35.145455 \n\" style=\"fill:#9fc3ef;\"/>\n    <path clip-path=\"url(#pb1b6345e69)\" d=\"M 201.673438 35.145455 \nL 230.247813 35.145455 \nL 230.247813 7.2 \nL 201.673438 7.2 \nL 201.673438 35.145455 \n\" style=\"fill:#a6c6ef;\"/>\n    <path clip-path=\"url(#pb1b6345e69)\" d=\"M 230.247813 35.145455 \nL 258.822188 35.145455 \nL 258.822188 7.2 \nL 230.247813 7.2 \nL 230.247813 35.145455 \n\" style=\"fill:#a6c6ef;\"/>\n    <path clip-path=\"url(#pb1b6345e69)\" d=\"M 258.822188 35.145455 \nL 287.396563 35.145455 \nL 287.396563 7.2 \nL 258.822188 7.2 \nL 258.822188 35.145455 \n\" style=\"fill:none;\"/>\n    <path clip-path=\"url(#pb1b6345e69)\" d=\"M 287.396563 35.145455 \nL 315.970938 35.145455 \nL 315.970938 7.2 \nL 287.396563 7.2 \nL 287.396563 35.145455 \n\" style=\"fill:#9fc3ef;\"/>\n    <path clip-path=\"url(#pb1b6345e69)\" d=\"M 315.970938 35.145455 \nL 344.545313 35.145455 \nL 344.545313 7.2 \nL 315.970938 7.2 \nL 315.970938 35.145455 \n\" style=\"fill:none;\"/>\n   </g>\n   <g id=\"matplotlib.axis_1\">\n    <g id=\"xtick_1\">\n     <g id=\"line2d_1\">\n      <defs>\n       <path d=\"M 0 0 \nL 0 3.5 \n\" id=\"m54daefe941\" style=\"stroke:#000000;stroke-width:0.8;\"/>\n      </defs>\n      <g>\n       <use style=\"stroke:#000000;stroke-width:0.8;\" x=\"87.375938\" xlink:href=\"#m54daefe941\" y=\"314.6\"/>\n      </g>\n     </g>\n     <g id=\"text_1\">\n      <!-- 2 -->\n      <defs>\n       <path d=\"M 19.1875 8.296875 \nL 53.609375 8.296875 \nL 53.609375 0 \nL 7.328125 0 \nL 7.328125 8.296875 \nQ 12.9375 14.109375 22.625 23.890625 \nQ 32.328125 33.6875 34.8125 36.53125 \nQ 39.546875 41.84375 41.421875 45.53125 \nQ 43.3125 49.21875 43.3125 52.78125 \nQ 43.3125 58.59375 39.234375 62.25 \nQ 35.15625 65.921875 28.609375 65.921875 \nQ 23.96875 65.921875 18.8125 64.3125 \nQ 13.671875 62.703125 7.8125 59.421875 \nL 7.8125 69.390625 \nQ 13.765625 71.78125 18.9375 73 \nQ 24.125 74.21875 28.421875 74.21875 \nQ 39.75 74.21875 46.484375 68.546875 \nQ 53.21875 62.890625 53.21875 53.421875 \nQ 53.21875 48.921875 51.53125 44.890625 \nQ 49.859375 40.875 45.40625 35.40625 \nQ 44.1875 33.984375 37.640625 27.21875 \nQ 31.109375 20.453125 19.1875 8.296875 \nz\n\" id=\"DejaVuSans-50\"/>\n      </defs>\n      <g transform=\"translate(84.194688 329.198437)scale(0.1 -0.1)\">\n       <use xlink:href=\"#DejaVuSans-50\"/>\n      </g>\n     </g>\n    </g>\n    <g id=\"xtick_2\">\n     <g id=\"line2d_2\">\n      <g>\n       <use style=\"stroke:#000000;stroke-width:0.8;\" x=\"144.524688\" xlink:href=\"#m54daefe941\" y=\"314.6\"/>\n      </g>\n     </g>\n     <g id=\"text_2\">\n      <!-- 4 -->\n      <defs>\n       <path d=\"M 37.796875 64.3125 \nL 12.890625 25.390625 \nL 37.796875 25.390625 \nz\nM 35.203125 72.90625 \nL 47.609375 72.90625 \nL 47.609375 25.390625 \nL 58.015625 25.390625 \nL 58.015625 17.1875 \nL 47.609375 17.1875 \nL 47.609375 0 \nL 37.796875 0 \nL 37.796875 17.1875 \nL 4.890625 17.1875 \nL 4.890625 26.703125 \nz\n\" id=\"DejaVuSans-52\"/>\n      </defs>\n      <g transform=\"translate(141.343438 329.198437)scale(0.1 -0.1)\">\n       <use xlink:href=\"#DejaVuSans-52\"/>\n      </g>\n     </g>\n    </g>\n    <g id=\"xtick_3\">\n     <g id=\"line2d_3\">\n      <g>\n       <use style=\"stroke:#000000;stroke-width:0.8;\" x=\"201.673438\" xlink:href=\"#m54daefe941\" y=\"314.6\"/>\n      </g>\n     </g>\n     <g id=\"text_3\">\n      <!-- 6 -->\n      <defs>\n       <path d=\"M 33.015625 40.375 \nQ 26.375 40.375 22.484375 35.828125 \nQ 18.609375 31.296875 18.609375 23.390625 \nQ 18.609375 15.53125 22.484375 10.953125 \nQ 26.375 6.390625 33.015625 6.390625 \nQ 39.65625 6.390625 43.53125 10.953125 \nQ 47.40625 15.53125 47.40625 23.390625 \nQ 47.40625 31.296875 43.53125 35.828125 \nQ 39.65625 40.375 33.015625 40.375 \nz\nM 52.59375 71.296875 \nL 52.59375 62.3125 \nQ 48.875 64.0625 45.09375 64.984375 \nQ 41.3125 65.921875 37.59375 65.921875 \nQ 27.828125 65.921875 22.671875 59.328125 \nQ 17.53125 52.734375 16.796875 39.40625 \nQ 19.671875 43.65625 24.015625 45.921875 \nQ 28.375 48.1875 33.59375 48.1875 \nQ 44.578125 48.1875 50.953125 41.515625 \nQ 57.328125 34.859375 57.328125 23.390625 \nQ 57.328125 12.15625 50.6875 5.359375 \nQ 44.046875 -1.421875 33.015625 -1.421875 \nQ 20.359375 -1.421875 13.671875 8.265625 \nQ 6.984375 17.96875 6.984375 36.375 \nQ 6.984375 53.65625 15.1875 63.9375 \nQ 23.390625 74.21875 37.203125 74.21875 \nQ 40.921875 74.21875 44.703125 73.484375 \nQ 48.484375 72.75 52.59375 71.296875 \nz\n\" id=\"DejaVuSans-54\"/>\n      </defs>\n      <g transform=\"translate(198.492188 329.198437)scale(0.1 -0.1)\">\n       <use xlink:href=\"#DejaVuSans-54\"/>\n      </g>\n     </g>\n    </g>\n    <g id=\"xtick_4\">\n     <g id=\"line2d_4\">\n      <g>\n       <use style=\"stroke:#000000;stroke-width:0.8;\" x=\"258.822188\" xlink:href=\"#m54daefe941\" y=\"314.6\"/>\n      </g>\n     </g>\n     <g id=\"text_4\">\n      <!-- 8 -->\n      <defs>\n       <path d=\"M 31.78125 34.625 \nQ 24.75 34.625 20.71875 30.859375 \nQ 16.703125 27.09375 16.703125 20.515625 \nQ 16.703125 13.921875 20.71875 10.15625 \nQ 24.75 6.390625 31.78125 6.390625 \nQ 38.8125 6.390625 42.859375 10.171875 \nQ 46.921875 13.96875 46.921875 20.515625 \nQ 46.921875 27.09375 42.890625 30.859375 \nQ 38.875 34.625 31.78125 34.625 \nz\nM 21.921875 38.8125 \nQ 15.578125 40.375 12.03125 44.71875 \nQ 8.5 49.078125 8.5 55.328125 \nQ 8.5 64.0625 14.71875 69.140625 \nQ 20.953125 74.21875 31.78125 74.21875 \nQ 42.671875 74.21875 48.875 69.140625 \nQ 55.078125 64.0625 55.078125 55.328125 \nQ 55.078125 49.078125 51.53125 44.71875 \nQ 48 40.375 41.703125 38.8125 \nQ 48.828125 37.15625 52.796875 32.3125 \nQ 56.78125 27.484375 56.78125 20.515625 \nQ 56.78125 9.90625 50.3125 4.234375 \nQ 43.84375 -1.421875 31.78125 -1.421875 \nQ 19.734375 -1.421875 13.25 4.234375 \nQ 6.78125 9.90625 6.78125 20.515625 \nQ 6.78125 27.484375 10.78125 32.3125 \nQ 14.796875 37.15625 21.921875 38.8125 \nz\nM 18.3125 54.390625 \nQ 18.3125 48.734375 21.84375 45.5625 \nQ 25.390625 42.390625 31.78125 42.390625 \nQ 38.140625 42.390625 41.71875 45.5625 \nQ 45.3125 48.734375 45.3125 54.390625 \nQ 45.3125 60.0625 41.71875 63.234375 \nQ 38.140625 66.40625 31.78125 66.40625 \nQ 25.390625 66.40625 21.84375 63.234375 \nQ 18.3125 60.0625 18.3125 54.390625 \nz\n\" id=\"DejaVuSans-56\"/>\n      </defs>\n      <g transform=\"translate(255.640938 329.198437)scale(0.1 -0.1)\">\n       <use xlink:href=\"#DejaVuSans-56\"/>\n      </g>\n     </g>\n    </g>\n    <g id=\"xtick_5\">\n     <g id=\"line2d_5\">\n      <g>\n       <use style=\"stroke:#000000;stroke-width:0.8;\" x=\"315.970938\" xlink:href=\"#m54daefe941\" y=\"314.6\"/>\n      </g>\n     </g>\n     <g id=\"text_5\">\n      <!-- 10 -->\n      <defs>\n       <path d=\"M 12.40625 8.296875 \nL 28.515625 8.296875 \nL 28.515625 63.921875 \nL 10.984375 60.40625 \nL 10.984375 69.390625 \nL 28.421875 72.90625 \nL 38.28125 72.90625 \nL 38.28125 8.296875 \nL 54.390625 8.296875 \nL 54.390625 0 \nL 12.40625 0 \nz\n\" id=\"DejaVuSans-49\"/>\n       <path d=\"M 31.78125 66.40625 \nQ 24.171875 66.40625 20.328125 58.90625 \nQ 16.5 51.421875 16.5 36.375 \nQ 16.5 21.390625 20.328125 13.890625 \nQ 24.171875 6.390625 31.78125 6.390625 \nQ 39.453125 6.390625 43.28125 13.890625 \nQ 47.125 21.390625 47.125 36.375 \nQ 47.125 51.421875 43.28125 58.90625 \nQ 39.453125 66.40625 31.78125 66.40625 \nz\nM 31.78125 74.21875 \nQ 44.046875 74.21875 50.515625 64.515625 \nQ 56.984375 54.828125 56.984375 36.375 \nQ 56.984375 17.96875 50.515625 8.265625 \nQ 44.046875 -1.421875 31.78125 -1.421875 \nQ 19.53125 -1.421875 13.0625 8.265625 \nQ 6.59375 17.96875 6.59375 36.375 \nQ 6.59375 54.828125 13.0625 64.515625 \nQ 19.53125 74.21875 31.78125 74.21875 \nz\n\" id=\"DejaVuSans-48\"/>\n      </defs>\n      <g transform=\"translate(309.608438 329.198437)scale(0.1 -0.1)\">\n       <use xlink:href=\"#DejaVuSans-49\"/>\n       <use x=\"63.623047\" xlink:href=\"#DejaVuSans-48\"/>\n      </g>\n     </g>\n    </g>\n    <g id=\"text_6\">\n     <!-- y -->\n     <defs>\n      <path d=\"M 32.171875 -5.078125 \nQ 28.375 -14.84375 24.75 -17.8125 \nQ 21.140625 -20.796875 15.09375 -20.796875 \nL 7.90625 -20.796875 \nL 7.90625 -13.28125 \nL 13.1875 -13.28125 \nQ 16.890625 -13.28125 18.9375 -11.515625 \nQ 21 -9.765625 23.484375 -3.21875 \nL 25.09375 0.875 \nL 2.984375 54.6875 \nL 12.5 54.6875 \nL 29.59375 11.921875 \nL 46.6875 54.6875 \nL 56.203125 54.6875 \nz\n\" id=\"DejaVuSans-121\"/>\n     </defs>\n     <g transform=\"translate(198.714063 342.876562)scale(0.1 -0.1)\">\n      <use xlink:href=\"#DejaVuSans-121\"/>\n     </g>\n    </g>\n   </g>\n   <g id=\"matplotlib.axis_2\">\n    <g id=\"ytick_1\">\n     <g id=\"line2d_6\">\n      <defs>\n       <path d=\"M 0 0 \nL -3.5 0 \n\" id=\"m025654c4f9\" style=\"stroke:#000000;stroke-width:0.8;\"/>\n      </defs>\n      <g>\n       <use style=\"stroke:#000000;stroke-width:0.8;\" x=\"58.801563\" xlink:href=\"#m025654c4f9\" y=\"305.122232\"/>\n      </g>\n     </g>\n     <g id=\"text_7\">\n      <!-- −1.25 -->\n      <defs>\n       <path d=\"M 10.59375 35.5 \nL 73.1875 35.5 \nL 73.1875 27.203125 \nL 10.59375 27.203125 \nz\n\" id=\"DejaVuSans-8722\"/>\n       <path d=\"M 10.6875 12.40625 \nL 21 12.40625 \nL 21 0 \nL 10.6875 0 \nz\n\" id=\"DejaVuSans-46\"/>\n       <path d=\"M 10.796875 72.90625 \nL 49.515625 72.90625 \nL 49.515625 64.59375 \nL 19.828125 64.59375 \nL 19.828125 46.734375 \nQ 21.96875 47.46875 24.109375 47.828125 \nQ 26.265625 48.1875 28.421875 48.1875 \nQ 40.625 48.1875 47.75 41.5 \nQ 54.890625 34.8125 54.890625 23.390625 \nQ 54.890625 11.625 47.5625 5.09375 \nQ 40.234375 -1.421875 26.90625 -1.421875 \nQ 22.3125 -1.421875 17.546875 -0.640625 \nQ 12.796875 0.140625 7.71875 1.703125 \nL 7.71875 11.625 \nQ 12.109375 9.234375 16.796875 8.0625 \nQ 21.484375 6.890625 26.703125 6.890625 \nQ 35.15625 6.890625 40.078125 11.328125 \nQ 45.015625 15.765625 45.015625 23.390625 \nQ 45.015625 31 40.078125 35.4375 \nQ 35.15625 39.890625 26.703125 39.890625 \nQ 22.75 39.890625 18.8125 39.015625 \nQ 14.890625 38.140625 10.796875 36.28125 \nz\n\" id=\"DejaVuSans-53\"/>\n      </defs>\n      <g transform=\"translate(21.15625 308.921451)scale(0.1 -0.1)\">\n       <use xlink:href=\"#DejaVuSans-8722\"/>\n       <use x=\"83.789062\" xlink:href=\"#DejaVuSans-49\"/>\n       <use x=\"147.412109\" xlink:href=\"#DejaVuSans-46\"/>\n       <use x=\"179.199219\" xlink:href=\"#DejaVuSans-50\"/>\n       <use x=\"242.822266\" xlink:href=\"#DejaVuSans-53\"/>\n      </g>\n     </g>\n    </g>\n    <g id=\"ytick_2\">\n     <g id=\"line2d_7\">\n      <g>\n       <use style=\"stroke:#000000;stroke-width:0.8;\" x=\"58.801563\" xlink:href=\"#m025654c4f9\" y=\"264.904886\"/>\n      </g>\n     </g>\n     <g id=\"text_8\">\n      <!-- −1.00 -->\n      <g transform=\"translate(21.15625 268.704105)scale(0.1 -0.1)\">\n       <use xlink:href=\"#DejaVuSans-8722\"/>\n       <use x=\"83.789062\" xlink:href=\"#DejaVuSans-49\"/>\n       <use x=\"147.412109\" xlink:href=\"#DejaVuSans-46\"/>\n       <use x=\"179.199219\" xlink:href=\"#DejaVuSans-48\"/>\n       <use x=\"242.822266\" xlink:href=\"#DejaVuSans-48\"/>\n      </g>\n     </g>\n    </g>\n    <g id=\"ytick_3\">\n     <g id=\"line2d_8\">\n      <g>\n       <use style=\"stroke:#000000;stroke-width:0.8;\" x=\"58.801563\" xlink:href=\"#m025654c4f9\" y=\"224.68754\"/>\n      </g>\n     </g>\n     <g id=\"text_9\">\n      <!-- −0.75 -->\n      <defs>\n       <path d=\"M 8.203125 72.90625 \nL 55.078125 72.90625 \nL 55.078125 68.703125 \nL 28.609375 0 \nL 18.3125 0 \nL 43.21875 64.59375 \nL 8.203125 64.59375 \nz\n\" id=\"DejaVuSans-55\"/>\n      </defs>\n      <g transform=\"translate(21.15625 228.486758)scale(0.1 -0.1)\">\n       <use xlink:href=\"#DejaVuSans-8722\"/>\n       <use x=\"83.789062\" xlink:href=\"#DejaVuSans-48\"/>\n       <use x=\"147.412109\" xlink:href=\"#DejaVuSans-46\"/>\n       <use x=\"179.199219\" xlink:href=\"#DejaVuSans-55\"/>\n       <use x=\"242.822266\" xlink:href=\"#DejaVuSans-53\"/>\n      </g>\n     </g>\n    </g>\n    <g id=\"ytick_4\">\n     <g id=\"line2d_9\">\n      <g>\n       <use style=\"stroke:#000000;stroke-width:0.8;\" x=\"58.801563\" xlink:href=\"#m025654c4f9\" y=\"184.470194\"/>\n      </g>\n     </g>\n     <g id=\"text_10\">\n      <!-- −0.50 -->\n      <g transform=\"translate(21.15625 188.269412)scale(0.1 -0.1)\">\n       <use xlink:href=\"#DejaVuSans-8722\"/>\n       <use x=\"83.789062\" xlink:href=\"#DejaVuSans-48\"/>\n       <use x=\"147.412109\" xlink:href=\"#DejaVuSans-46\"/>\n       <use x=\"179.199219\" xlink:href=\"#DejaVuSans-53\"/>\n       <use x=\"242.822266\" xlink:href=\"#DejaVuSans-48\"/>\n      </g>\n     </g>\n    </g>\n    <g id=\"ytick_5\">\n     <g id=\"line2d_10\">\n      <g>\n       <use style=\"stroke:#000000;stroke-width:0.8;\" x=\"58.801563\" xlink:href=\"#m025654c4f9\" y=\"144.252847\"/>\n      </g>\n     </g>\n     <g id=\"text_11\">\n      <!-- −0.25 -->\n      <g transform=\"translate(21.15625 148.052066)scale(0.1 -0.1)\">\n       <use xlink:href=\"#DejaVuSans-8722\"/>\n       <use x=\"83.789062\" xlink:href=\"#DejaVuSans-48\"/>\n       <use x=\"147.412109\" xlink:href=\"#DejaVuSans-46\"/>\n       <use x=\"179.199219\" xlink:href=\"#DejaVuSans-50\"/>\n       <use x=\"242.822266\" xlink:href=\"#DejaVuSans-53\"/>\n      </g>\n     </g>\n    </g>\n    <g id=\"ytick_6\">\n     <g id=\"line2d_11\">\n      <g>\n       <use style=\"stroke:#000000;stroke-width:0.8;\" x=\"58.801563\" xlink:href=\"#m025654c4f9\" y=\"104.035501\"/>\n      </g>\n     </g>\n     <g id=\"text_12\">\n      <!-- 0.00 -->\n      <g transform=\"translate(29.535938 107.83472)scale(0.1 -0.1)\">\n       <use xlink:href=\"#DejaVuSans-48\"/>\n       <use x=\"63.623047\" xlink:href=\"#DejaVuSans-46\"/>\n       <use x=\"95.410156\" xlink:href=\"#DejaVuSans-48\"/>\n       <use x=\"159.033203\" xlink:href=\"#DejaVuSans-48\"/>\n      </g>\n     </g>\n    </g>\n    <g id=\"ytick_7\">\n     <g id=\"line2d_12\">\n      <g>\n       <use style=\"stroke:#000000;stroke-width:0.8;\" x=\"58.801563\" xlink:href=\"#m025654c4f9\" y=\"63.818155\"/>\n      </g>\n     </g>\n     <g id=\"text_13\">\n      <!-- 0.25 -->\n      <g transform=\"translate(29.535938 67.617374)scale(0.1 -0.1)\">\n       <use xlink:href=\"#DejaVuSans-48\"/>\n       <use x=\"63.623047\" xlink:href=\"#DejaVuSans-46\"/>\n       <use x=\"95.410156\" xlink:href=\"#DejaVuSans-50\"/>\n       <use x=\"159.033203\" xlink:href=\"#DejaVuSans-53\"/>\n      </g>\n     </g>\n    </g>\n    <g id=\"ytick_8\">\n     <g id=\"line2d_13\">\n      <g>\n       <use style=\"stroke:#000000;stroke-width:0.8;\" x=\"58.801563\" xlink:href=\"#m025654c4f9\" y=\"23.600809\"/>\n      </g>\n     </g>\n     <g id=\"text_14\">\n      <!-- 0.50 -->\n      <g transform=\"translate(29.535938 27.400028)scale(0.1 -0.1)\">\n       <use xlink:href=\"#DejaVuSans-48\"/>\n       <use x=\"63.623047\" xlink:href=\"#DejaVuSans-46\"/>\n       <use x=\"95.410156\" xlink:href=\"#DejaVuSans-53\"/>\n       <use x=\"159.033203\" xlink:href=\"#DejaVuSans-48\"/>\n      </g>\n     </g>\n    </g>\n    <g id=\"text_15\">\n     <!-- preds_train -->\n     <defs>\n      <path d=\"M 18.109375 8.203125 \nL 18.109375 -20.796875 \nL 9.078125 -20.796875 \nL 9.078125 54.6875 \nL 18.109375 54.6875 \nL 18.109375 46.390625 \nQ 20.953125 51.265625 25.265625 53.625 \nQ 29.59375 56 35.59375 56 \nQ 45.5625 56 51.78125 48.09375 \nQ 58.015625 40.1875 58.015625 27.296875 \nQ 58.015625 14.40625 51.78125 6.484375 \nQ 45.5625 -1.421875 35.59375 -1.421875 \nQ 29.59375 -1.421875 25.265625 0.953125 \nQ 20.953125 3.328125 18.109375 8.203125 \nz\nM 48.6875 27.296875 \nQ 48.6875 37.203125 44.609375 42.84375 \nQ 40.53125 48.484375 33.40625 48.484375 \nQ 26.265625 48.484375 22.1875 42.84375 \nQ 18.109375 37.203125 18.109375 27.296875 \nQ 18.109375 17.390625 22.1875 11.75 \nQ 26.265625 6.109375 33.40625 6.109375 \nQ 40.53125 6.109375 44.609375 11.75 \nQ 48.6875 17.390625 48.6875 27.296875 \nz\n\" id=\"DejaVuSans-112\"/>\n      <path d=\"M 41.109375 46.296875 \nQ 39.59375 47.171875 37.8125 47.578125 \nQ 36.03125 48 33.890625 48 \nQ 26.265625 48 22.1875 43.046875 \nQ 18.109375 38.09375 18.109375 28.8125 \nL 18.109375 0 \nL 9.078125 0 \nL 9.078125 54.6875 \nL 18.109375 54.6875 \nL 18.109375 46.1875 \nQ 20.953125 51.171875 25.484375 53.578125 \nQ 30.03125 56 36.53125 56 \nQ 37.453125 56 38.578125 55.875 \nQ 39.703125 55.765625 41.0625 55.515625 \nz\n\" id=\"DejaVuSans-114\"/>\n      <path d=\"M 56.203125 29.59375 \nL 56.203125 25.203125 \nL 14.890625 25.203125 \nQ 15.484375 15.921875 20.484375 11.0625 \nQ 25.484375 6.203125 34.421875 6.203125 \nQ 39.59375 6.203125 44.453125 7.46875 \nQ 49.3125 8.734375 54.109375 11.28125 \nL 54.109375 2.78125 \nQ 49.265625 0.734375 44.1875 -0.34375 \nQ 39.109375 -1.421875 33.890625 -1.421875 \nQ 20.796875 -1.421875 13.15625 6.1875 \nQ 5.515625 13.8125 5.515625 26.8125 \nQ 5.515625 40.234375 12.765625 48.109375 \nQ 20.015625 56 32.328125 56 \nQ 43.359375 56 49.78125 48.890625 \nQ 56.203125 41.796875 56.203125 29.59375 \nz\nM 47.21875 32.234375 \nQ 47.125 39.59375 43.09375 43.984375 \nQ 39.0625 48.390625 32.421875 48.390625 \nQ 24.90625 48.390625 20.390625 44.140625 \nQ 15.875 39.890625 15.1875 32.171875 \nz\n\" id=\"DejaVuSans-101\"/>\n      <path d=\"M 45.40625 46.390625 \nL 45.40625 75.984375 \nL 54.390625 75.984375 \nL 54.390625 0 \nL 45.40625 0 \nL 45.40625 8.203125 \nQ 42.578125 3.328125 38.25 0.953125 \nQ 33.9375 -1.421875 27.875 -1.421875 \nQ 17.96875 -1.421875 11.734375 6.484375 \nQ 5.515625 14.40625 5.515625 27.296875 \nQ 5.515625 40.1875 11.734375 48.09375 \nQ 17.96875 56 27.875 56 \nQ 33.9375 56 38.25 53.625 \nQ 42.578125 51.265625 45.40625 46.390625 \nz\nM 14.796875 27.296875 \nQ 14.796875 17.390625 18.875 11.75 \nQ 22.953125 6.109375 30.078125 6.109375 \nQ 37.203125 6.109375 41.296875 11.75 \nQ 45.40625 17.390625 45.40625 27.296875 \nQ 45.40625 37.203125 41.296875 42.84375 \nQ 37.203125 48.484375 30.078125 48.484375 \nQ 22.953125 48.484375 18.875 42.84375 \nQ 14.796875 37.203125 14.796875 27.296875 \nz\n\" id=\"DejaVuSans-100\"/>\n      <path d=\"M 44.28125 53.078125 \nL 44.28125 44.578125 \nQ 40.484375 46.53125 36.375 47.5 \nQ 32.28125 48.484375 27.875 48.484375 \nQ 21.1875 48.484375 17.84375 46.4375 \nQ 14.5 44.390625 14.5 40.28125 \nQ 14.5 37.15625 16.890625 35.375 \nQ 19.28125 33.59375 26.515625 31.984375 \nL 29.59375 31.296875 \nQ 39.15625 29.25 43.1875 25.515625 \nQ 47.21875 21.78125 47.21875 15.09375 \nQ 47.21875 7.46875 41.1875 3.015625 \nQ 35.15625 -1.421875 24.609375 -1.421875 \nQ 20.21875 -1.421875 15.453125 -0.5625 \nQ 10.6875 0.296875 5.421875 2 \nL 5.421875 11.28125 \nQ 10.40625 8.6875 15.234375 7.390625 \nQ 20.0625 6.109375 24.8125 6.109375 \nQ 31.15625 6.109375 34.5625 8.28125 \nQ 37.984375 10.453125 37.984375 14.40625 \nQ 37.984375 18.0625 35.515625 20.015625 \nQ 33.0625 21.96875 24.703125 23.78125 \nL 21.578125 24.515625 \nQ 13.234375 26.265625 9.515625 29.90625 \nQ 5.8125 33.546875 5.8125 39.890625 \nQ 5.8125 47.609375 11.28125 51.796875 \nQ 16.75 56 26.8125 56 \nQ 31.78125 56 36.171875 55.265625 \nQ 40.578125 54.546875 44.28125 53.078125 \nz\n\" id=\"DejaVuSans-115\"/>\n      <path d=\"M 50.984375 -16.609375 \nL 50.984375 -23.578125 \nL -0.984375 -23.578125 \nL -0.984375 -16.609375 \nz\n\" id=\"DejaVuSans-95\"/>\n      <path d=\"M 18.3125 70.21875 \nL 18.3125 54.6875 \nL 36.8125 54.6875 \nL 36.8125 47.703125 \nL 18.3125 47.703125 \nL 18.3125 18.015625 \nQ 18.3125 11.328125 20.140625 9.421875 \nQ 21.96875 7.515625 27.59375 7.515625 \nL 36.8125 7.515625 \nL 36.8125 0 \nL 27.59375 0 \nQ 17.1875 0 13.234375 3.875 \nQ 9.28125 7.765625 9.28125 18.015625 \nL 9.28125 47.703125 \nL 2.6875 47.703125 \nL 2.6875 54.6875 \nL 9.28125 54.6875 \nL 9.28125 70.21875 \nz\n\" id=\"DejaVuSans-116\"/>\n      <path d=\"M 34.28125 27.484375 \nQ 23.390625 27.484375 19.1875 25 \nQ 14.984375 22.515625 14.984375 16.5 \nQ 14.984375 11.71875 18.140625 8.90625 \nQ 21.296875 6.109375 26.703125 6.109375 \nQ 34.1875 6.109375 38.703125 11.40625 \nQ 43.21875 16.703125 43.21875 25.484375 \nL 43.21875 27.484375 \nz\nM 52.203125 31.203125 \nL 52.203125 0 \nL 43.21875 0 \nL 43.21875 8.296875 \nQ 40.140625 3.328125 35.546875 0.953125 \nQ 30.953125 -1.421875 24.3125 -1.421875 \nQ 15.921875 -1.421875 10.953125 3.296875 \nQ 6 8.015625 6 15.921875 \nQ 6 25.140625 12.171875 29.828125 \nQ 18.359375 34.515625 30.609375 34.515625 \nL 43.21875 34.515625 \nL 43.21875 35.40625 \nQ 43.21875 41.609375 39.140625 45 \nQ 35.0625 48.390625 27.6875 48.390625 \nQ 23 48.390625 18.546875 47.265625 \nQ 14.109375 46.140625 10.015625 43.890625 \nL 10.015625 52.203125 \nQ 14.9375 54.109375 19.578125 55.046875 \nQ 24.21875 56 28.609375 56 \nQ 40.484375 56 46.34375 49.84375 \nQ 52.203125 43.703125 52.203125 31.203125 \nz\n\" id=\"DejaVuSans-97\"/>\n      <path d=\"M 9.421875 54.6875 \nL 18.40625 54.6875 \nL 18.40625 0 \nL 9.421875 0 \nz\nM 9.421875 75.984375 \nL 18.40625 75.984375 \nL 18.40625 64.59375 \nL 9.421875 64.59375 \nz\n\" id=\"DejaVuSans-105\"/>\n      <path d=\"M 54.890625 33.015625 \nL 54.890625 0 \nL 45.90625 0 \nL 45.90625 32.71875 \nQ 45.90625 40.484375 42.875 44.328125 \nQ 39.84375 48.1875 33.796875 48.1875 \nQ 26.515625 48.1875 22.3125 43.546875 \nQ 18.109375 38.921875 18.109375 30.90625 \nL 18.109375 0 \nL 9.078125 0 \nL 9.078125 54.6875 \nL 18.109375 54.6875 \nL 18.109375 46.1875 \nQ 21.34375 51.125 25.703125 53.5625 \nQ 30.078125 56 35.796875 56 \nQ 45.21875 56 50.046875 50.171875 \nQ 54.890625 44.34375 54.890625 33.015625 \nz\n\" id=\"DejaVuSans-110\"/>\n     </defs>\n     <g transform=\"translate(14.798437 189.121094)rotate(-90)scale(0.1 -0.1)\">\n      <use xlink:href=\"#DejaVuSans-112\"/>\n      <use x=\"63.476562\" xlink:href=\"#DejaVuSans-114\"/>\n      <use x=\"104.558594\" xlink:href=\"#DejaVuSans-101\"/>\n      <use x=\"166.082031\" xlink:href=\"#DejaVuSans-100\"/>\n      <use x=\"229.558594\" xlink:href=\"#DejaVuSans-115\"/>\n      <use x=\"281.658203\" xlink:href=\"#DejaVuSans-95\"/>\n      <use x=\"331.658203\" xlink:href=\"#DejaVuSans-116\"/>\n      <use x=\"370.867188\" xlink:href=\"#DejaVuSans-114\"/>\n      <use x=\"411.980469\" xlink:href=\"#DejaVuSans-97\"/>\n      <use x=\"473.259766\" xlink:href=\"#DejaVuSans-105\"/>\n      <use x=\"501.042969\" xlink:href=\"#DejaVuSans-110\"/>\n     </g>\n    </g>\n   </g>\n   <g id=\"patch_3\">\n    <path d=\"M 58.801563 314.6 \nL 58.801563 7.2 \n\" style=\"fill:none;stroke:#000000;stroke-linecap:square;stroke-linejoin:miter;stroke-width:0.8;\"/>\n   </g>\n   <g id=\"patch_4\">\n    <path d=\"M 58.801563 314.6 \nL 344.545313 314.6 \n\" style=\"fill:none;stroke:#000000;stroke-linecap:square;stroke-linejoin:miter;stroke-width:0.8;\"/>\n   </g>\n  </g>\n </g>\n <defs>\n  <clipPath id=\"pb1b6345e69\">\n   <rect height=\"307.4\" width=\"285.74375\" x=\"58.801563\" y=\"7.2\"/>\n  </clipPath>\n </defs>\n</svg>\n",
      "image/png": "[encoded data removed]"
     },
     "metadata": {
      "needs_background": "light"
     }
    }
   ],
   "source": [
    "import seaborn as sns\n",
    "result = pd.DataFrame({'y': y, 'preds_train': preds_train})\n",
    "plt.figure()\n",
    "sns.displot(result, x='y', y='preds_train')"
   ]
  },
  {
   "cell_type": "code",
   "execution_count": 21,
   "metadata": {},
   "outputs": [],
   "source": [
    "import itertools\n",
    "# pair transform\n"
   ]
  },
  {
   "cell_type": "code",
   "execution_count": 22,
   "metadata": {},
   "outputs": [
    {
     "output_type": "execute_result",
     "data": {
      "text/plain": "Index(['Age', 'Eliminated', 'Season'], dtype='object')"
     },
     "metadata": {},
     "execution_count": 22
    }
   ],
   "source": [
    "stuff.columns"
   ]
  },
  {
   "cell_type": "code",
   "execution_count": 23,
   "metadata": {},
   "outputs": [
    {
     "output_type": "execute_result",
     "data": {
      "text/plain": "Index(['Name', 'Age', 'Hometown', 'Job', 'Eliminated', 'Season', 'Bachelor',\n       'Bachelor Age', 'Bachelor_Hometown'],\n      dtype='object')"
     },
     "metadata": {},
     "execution_count": 23
    }
   ],
   "source": [
    "data.columns"
   ]
  },
  {
   "cell_type": "code",
   "execution_count": 27,
   "metadata": {},
   "outputs": [
    {
     "output_type": "execute_result",
     "data": {
      "text/plain": "Chicago, Illinois                    6\nDallas, Texas                        6\nSeattle, Washington                  5\nLos Angeles, California              5\nHouston, Texas                       4\nTampa, Florida                       4\nScottsdale, Arizona                  4\nPittsburgh, Pennsylvania             4\nSalt Lake City, Utah                 3\nSan Diego, California                3\nBeverly Hills, California            3\nNew York, New York                   3\nTempe, Arizona                       3\nSan Francisco, California            3\nBoise, Idaho                         3\nMiami, Florida                       3\nChapel Hill, North Carolina          2\nRichmond, Virginia                   2\nColumbus, Ohio                       2\nAustin, Texas                        2\nPlano, Texas                         2\nWalnut Creek, California             2\nHonolulu, Hawaii                     2\nNashville, Tennessee                 2\nPhiladelphia, Pennsylvania           2\nStockton, California                 2\nAtlanta, Georgia                     2\nNew York, NY                         2\nCarlsbad, California                 2\nSacramento, California               2\nAvondale, Arizona                    2\nCincinnati, Ohio                     2\nSandy, Utah                          2\nCalgary, Alberta                     2\nAlamo, California                    1\nSpringfield, Massachusetts           1\nShawnee, Oklahoma                    1\nMassapequa Park, New York            1\nMission Viejo, California            1\nKissimmee, Florida                   1\nMarlboro, New Jersey                 1\nMalibu, California                   1\nAntelope Acres, California           1\nVinings, Georgia                     1\nCincinnati, OH                       1\nTopeka, Kansas                       1\nSan Gabriel, California              1\nShelby Charter Township, Michigan    1\nHolland, Michigan                    1\nDarien, Wisconsin                    1\nName: Hometown, dtype: int64"
     },
     "metadata": {},
     "execution_count": 27
    }
   ],
   "source": [
    "data['Hometown'].value_counts()[:50]"
   ]
  },
  {
   "cell_type": "code",
   "execution_count": null,
   "metadata": {},
   "outputs": [],
   "source": []
  }
 ]
}